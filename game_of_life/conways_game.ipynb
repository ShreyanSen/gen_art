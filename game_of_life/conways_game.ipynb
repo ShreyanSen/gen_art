{
 "cells": [
  {
   "cell_type": "code",
   "execution_count": 1,
   "id": "d9518ae0-a6b0-441f-ace4-756803a11b9e",
   "metadata": {},
   "outputs": [],
   "source": [
    "import pandas as pd\n",
    "import numpy as np\n",
    "import matplotlib.pyplot as plt\n",
    "\n",
    "from matplotlib.animation import FuncAnimation, PillowWriter\n",
    "import matplotlib.animation as animation"
   ]
  },
  {
   "cell_type": "code",
   "execution_count": 21,
   "id": "31f43427-8759-4e7d-88c9-ea2c1f230b95",
   "metadata": {},
   "outputs": [],
   "source": [
    "class ConwaysGame:\n",
    "\n",
    "    def __init__(self, grid_size=(100,100)):\n",
    "        self.grid_size = grid_size\n",
    "        self.grid_l = grid_size[0] # up / down\n",
    "        self.grid_w = grid_size[1] # right / left\n",
    "        self.init_grid()\n",
    "\n",
    "\n",
    "    def init_grid(self):\n",
    "        p_ones = 0.4\n",
    "        self.grid = np.random.choice([0,1], self.grid_size, p=((1-p_ones),p_ones)) # seed random start \n",
    "        self.grids = []\n",
    "        self.grids.append(self.grid)\n",
    "        \n",
    "    def lookup_neighbor_vals_deadwalls(self, i,j):\n",
    "        # return right index\n",
    "        neighbors_list = []\n",
    "        neighbor_indices = [[i+1,j], [i-1,j],[i,j+1],[i,j-1],[i+1, j+1],[i+1,j-1],[i-1,j+1],[i-1,j-1]]\n",
    "        for neighbor in neighbor_indices:\n",
    "            try: \n",
    "                n_val = self.grid[neighbor[0], neighbor[1]]\n",
    "            except:\n",
    "                n_val = 0\n",
    "            neighbors_list.append(n_val)\n",
    "        return neighbors_list\n",
    "\n",
    "    def lookup_neighbor_vals(self, i,j):\n",
    "        # return right index\n",
    "        neighbors_list = []\n",
    "\n",
    "        # determining what the i and j coords of neighbors are given a periodic wrap-around space\n",
    "        if i == 0:\n",
    "            i_up = self.grid_l - 1\n",
    "            i_down = i+1\n",
    "        elif i == self.grid_l - 1:\n",
    "            i_up = i - 1\n",
    "            i_down = 0\n",
    "        else:\n",
    "            i_up = i - 1\n",
    "            i_down = i + 1\n",
    "\n",
    "        if j == 0:\n",
    "            j_left = self.grid_w - 1\n",
    "            j_right = j+1\n",
    "        elif j == self.grid_w - 1:\n",
    "            j_left = j - 1\n",
    "            j_right = 0\n",
    "        else:\n",
    "            j_left = j - 1\n",
    "            j_right = j + 1\n",
    "            \n",
    "        neighbor_indices = [[i_down,j], [i_up,j],[i,j_right],[i,j_left],[i_down, j_right],[i_down,j_left],[i_up,j_right],[i_up,j_left]]\n",
    "        for neighbor in neighbor_indices:\n",
    "            n_val = self.grid[neighbor[0], neighbor[1]]\n",
    "            neighbors_list.append(n_val)\n",
    "        return neighbors_list\n",
    "        \n",
    "\n",
    "    def update_cell(self, cell_i, cell_j):\n",
    "        cell_val = self.grid[cell_i, cell_j]\n",
    "        neighbor_vals = self.lookup_neighbor_vals(cell_i, cell_j)\n",
    "        total_neighbors = np.sum(neighbor_vals)\n",
    "        if cell_val==0:\n",
    "            if total_neighbors==3:\n",
    "                new_val = 1\n",
    "            else: \n",
    "                new_val = 0\n",
    "        elif cell_val==1:\n",
    "            if (total_neighbors==2) | (total_neighbors==3):\n",
    "                new_val = 1\n",
    "            else:\n",
    "                new_val = 0\n",
    "        return new_val\n",
    "\n",
    "    def update_grid(self):\n",
    "        new_grid = np.zeros(self.grid_size)\n",
    "        self.track_ids = []\n",
    "        for i in range(0, self.grid_l):\n",
    "            for j in range(0, self.grid_w):\n",
    "                self.track_ids.append([i,j])\n",
    "                new_grid[i,j] = self.update_cell(i,j)\n",
    "        self.grid = new_grid\n",
    "        self.grids.append(self.grid)\n",
    "\n",
    "    def run_game_for_x_turns(self, x=250):\n",
    "        for i in range(0, x):\n",
    "            self.update_grid()\n",
    "        self.turns = x\n",
    "\n",
    "    def visualize_game(self):\n",
    "        N_plots= self.turns\n",
    "        fig,ax = plt.subplots()\n",
    "        \n",
    "        ims = []\n",
    "        for i in range(0,N_plots):\n",
    "            im = ax.matshow(game_obj.grids[i], animated=True)\n",
    "            ims.append([im])\n",
    "        ani = animation.ArtistAnimation(fig, ims, interval=100, blit=True,\n",
    "                                        repeat_delay=1000)\n",
    "        writergif = animation.PillowWriter(fps=3) \n",
    "        ani.save(\"conway.gif\")\n",
    "                \n",
    "        \n",
    "    \n",
    "        \n",
    "\n",
    "\n",
    "\n"
   ]
  },
  {
   "cell_type": "code",
   "execution_count": 22,
   "id": "86455ea8-5aa6-4843-82ed-07baf4715743",
   "metadata": {},
   "outputs": [],
   "source": [
    "game_obj = ConwaysGame()\n",
    "\n"
   ]
  },
  {
   "cell_type": "code",
   "execution_count": 23,
   "id": "086b1d07-235a-4a83-b4d5-b5e1a07ed126",
   "metadata": {},
   "outputs": [],
   "source": [
    "game_obj.run_game_for_x_turns()"
   ]
  },
  {
   "cell_type": "code",
   "execution_count": 24,
   "id": "abd2f68b-689b-4f53-ae4f-49fcc0afc52b",
   "metadata": {},
   "outputs": [
    {
     "data": {
      "image/png": "[encoded data removed]",
      "text/plain": [
       "<Figure size 640x480 with 1 Axes>"
      ]
     },
     "metadata": {},
     "output_type": "display_data"
    }
   ],
   "source": [
    "game_obj.visualize_game()"
   ]
  },
  {
   "cell_type": "code",
   "execution_count": null,
   "id": "c2bc68c0-8565-4509-b950-0430377a0aca",
   "metadata": {},
   "outputs": [],
   "source": []
  }
 ],
 "metadata": {
  "kernelspec": {
   "display_name": "Python 3 (ipykernel)",
   "language": "python",
   "name": "python3"
  },
  "language_info": {
   "codemirror_mode": {
    "name": "ipython",
    "version": 3
   },
   "file_extension": ".py",
   "mimetype": "text/x-python",
   "name": "python",
   "nbconvert_exporter": "python",
   "pygments_lexer": "ipython3",
   "version": "3.10.5"
  }
 },
 "nbformat": 4,
 "nbformat_minor": 5
}
