{
 "cells": [
  {
   "cell_type": "code",
   "execution_count": 67,
   "id": "d9518ae0-a6b0-441f-ace4-756803a11b9e",
   "metadata": {},
   "outputs": [],
   "source": [
    "import pandas as pd\n",
    "import numpy as np\n",
    "import matplotlib.pyplot as plt"
   ]
  },
  {
   "cell_type": "code",
   "execution_count": 82,
   "id": "31f43427-8759-4e7d-88c9-ea2c1f230b95",
   "metadata": {},
   "outputs": [],
   "source": [
    "class ConwaysGame:\n",
    "\n",
    "    def __init__(self, grid_size=(50,50)):\n",
    "        self.grid_size = grid_size\n",
    "        self.grid_l = grid_size[0]\n",
    "        self.grid_w = grid_size[1]\n",
    "        self.init_grid()\n",
    "\n",
    "\n",
    "    def init_grid(self):\n",
    "        p_ones = 0.7\n",
    "        self.grid = np.random.choice([0,1], self.grid_size, p=((1-p_ones),p_ones)) # seed random start \n",
    "        self.grids = []\n",
    "        self.grids.append(self.grid)\n",
    "        \n",
    "    def lookup_neighbor_vals(self, i,j):\n",
    "        # return right index\n",
    "        neighbors_list = []\n",
    "        neighbor_indices = [[i+i,j], [i-1,j],[i,j+1],[i,j-1],[i+1, j+1],[i+1,j-1],[i-1,j+1],[i-1,j-1]]\n",
    "        for neighbor in neighbor_indices:\n",
    "            try: \n",
    "                n_val = self.grid[neighbor[0], neighbor[1]]\n",
    "            except:\n",
    "                n_val = 0\n",
    "            neighbors_list.append(n_val)\n",
    "        return neighbors_list\n",
    "\n",
    "    def update_cell(self, cell_i, cell_j):\n",
    "        cell_val = self.grid[cell_i, cell_j]\n",
    "        neighbor_vals = self.lookup_neighbor_vals(cell_i, cell_j)\n",
    "        total_neighbors = np.sum(neighbor_vals)\n",
    "        if cell_val==0:\n",
    "            if total_neighbors==3:\n",
    "                new_val = 1\n",
    "            else: \n",
    "                new_val = 0\n",
    "        elif cell_val==1:\n",
    "            if (total_neighbors==2) | (total_neighbors==3):\n",
    "                new_val = 1\n",
    "            else:\n",
    "                new_val = 0\n",
    "        return new_val\n",
    "\n",
    "    def update_grid(self):\n",
    "        new_grid = np.zeros(self.grid_size)\n",
    "        self.track_ids = []\n",
    "        for i in range(0, self.grid_l):\n",
    "            for j in range(0, self.grid_w):\n",
    "                self.track_ids.append([i,j])\n",
    "                new_grid[i,j] = self.update_cell(i,j)\n",
    "        self.grid = new_grid\n",
    "        self.grids.append(self.grid)\n",
    "\n",
    "    def run_game_for_x_turns(self, x=100):\n",
    "        for i in range(0, x):\n",
    "            self.update_grid()\n",
    "                \n",
    "        \n",
    "    \n",
    "        \n",
    "\n",
    "\n",
    "\n"
   ]
  },
  {
   "cell_type": "code",
   "execution_count": 83,
   "id": "86455ea8-5aa6-4843-82ed-07baf4715743",
   "metadata": {},
   "outputs": [
    {
     "data": {
      "text/plain": [
       "array([[1, 0, 1, ..., 1, 1, 0],\n",
       "       [1, 1, 1, ..., 1, 1, 1],\n",
       "       [1, 1, 1, ..., 1, 1, 1],\n",
       "       ...,\n",
       "       [0, 1, 0, ..., 0, 1, 1],\n",
       "       [0, 1, 1, ..., 1, 0, 1],\n",
       "       [1, 1, 1, ..., 1, 0, 1]])"
      ]
     },
     "execution_count": 83,
     "metadata": {},
     "output_type": "execute_result"
    }
   ],
   "source": [
    "game_obj = ConwaysGame()\n",
    "\n",
    "game_obj.grid\n"
   ]
  },
  {
   "cell_type": "code",
   "execution_count": 84,
   "id": "086b1d07-235a-4a83-b4d5-b5e1a07ed126",
   "metadata": {},
   "outputs": [],
   "source": [
    "game_obj.run_game_for_x_turns()"
   ]
  },
  {
   "cell_type": "code",
   "execution_count": 91,
   "id": "878ea801-c5ba-4b7a-bb73-3b71d5bdd419",
   "metadata": {},
   "outputs": [
    {
     "data": {
      "text/plain": [
       "[]"
      ]
     },
     "execution_count": 91,
     "metadata": {},
     "output_type": "execute_result"
    },
    {
     "data": {
      "image/png": "[encoded data removed]",
      "text/plain": [
       "<Figure size 480x480 with 1 Axes>"
      ]
     },
     "metadata": {},
     "output_type": "display_data"
    }
   ],
   "source": [
    "plt.matshow(game_obj.grids[20])\n",
    "plt.plot()"
   ]
  },
  {
   "cell_type": "code",
   "execution_count": null,
   "id": "dbe546d0-4904-4bb1-8a3b-ca6cb60cb266",
   "metadata": {},
   "outputs": [],
   "source": [
    "# next use this to animate? https://matplotlib.org/stable/api/animation_api.html"
   ]
  }
 ],
 "metadata": {
  "kernelspec": {
   "display_name": "Python 3 (ipykernel)",
   "language": "python",
   "name": "python3"
  },
  "language_info": {
   "codemirror_mode": {
    "name": "ipython",
    "version": 3
   },
   "file_extension": ".py",
   "mimetype": "text/x-python",
   "name": "python",
   "nbconvert_exporter": "python",
   "pygments_lexer": "ipython3",
   "version": "3.10.5"
  }
 },
 "nbformat": 4,
 "nbformat_minor": 5
}
