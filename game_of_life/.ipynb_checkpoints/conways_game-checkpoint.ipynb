{
 "cells": [
  {
   "cell_type": "code",
   "execution_count": 2,
   "id": "d9518ae0-a6b0-441f-ace4-756803a11b9e",
   "metadata": {},
   "outputs": [],
   "source": [
    "import pandas as pd\n",
    "import numpy as np"
   ]
  },
  {
   "cell_type": "code",
   "execution_count": 8,
   "id": "31f43427-8759-4e7d-88c9-ea2c1f230b95",
   "metadata": {},
   "outputs": [],
   "source": [
    "class ConwaysGame:\n",
    "\n",
    "    def __init__(self, grid_size=(10,12)):\n",
    "        self.grid_l = grid_size[0]\n",
    "        self.grid_w = grid_size[1]\n",
    "        self.grid = np.zeros(grid_size)\n",
    "\n",
    "    def seed_grid(self):\n",
    "        return\n",
    "\n",
    "    def lookup_neighbor_vals(self, [i,j]):\n",
    "        # return right index\n",
    "        neighbors_list = []\n",
    "        neighbor_indices = [[i+i,j], [i-1,j],[i,j+1],[i,j-1],[i+1, j+1],[i+1,j-1],[i-1,j+1],[i-1,j-1]]\n",
    "        for neighbor in neigbor_indices:\n",
    "            try: \n",
    "                n_val = self.grid[neighbor]\n",
    "            else:\n",
    "                n_val = 0\n",
    "            neighbors_list.append(n_val)\n",
    "        return neighbors_list\n",
    "\n",
    "    def update_cell(self, [cell_i, cell_j]):\n",
    "        vals = \n",
    "        \n",
    "        \n",
    "    \n",
    "        \n",
    "\n",
    "\n",
    "\n"
   ]
  },
  {
   "cell_type": "code",
   "execution_count": 9,
   "id": "86455ea8-5aa6-4843-82ed-07baf4715743",
   "metadata": {},
   "outputs": [
    {
     "data": {
      "text/plain": [
       "array([[0., 0., 0., 0., 0., 0., 0., 0., 0., 0., 0., 0.],\n",
       "       [0., 0., 0., 0., 0., 0., 0., 0., 0., 0., 0., 0.],\n",
       "       [0., 0., 0., 0., 0., 0., 0., 0., 0., 0., 0., 0.],\n",
       "       [0., 0., 0., 0., 0., 0., 0., 0., 0., 0., 0., 0.],\n",
       "       [0., 0., 0., 0., 0., 0., 0., 0., 0., 0., 0., 0.],\n",
       "       [0., 0., 0., 0., 0., 0., 0., 0., 0., 0., 0., 0.],\n",
       "       [0., 0., 0., 0., 0., 0., 0., 0., 0., 0., 0., 0.],\n",
       "       [0., 0., 0., 0., 0., 0., 0., 0., 0., 0., 0., 0.],\n",
       "       [0., 0., 0., 0., 0., 0., 0., 0., 0., 0., 0., 0.],\n",
       "       [0., 0., 0., 0., 0., 0., 0., 0., 0., 0., 0., 0.]])"
      ]
     },
     "execution_count": 9,
     "metadata": {},
     "output_type": "execute_result"
    }
   ],
   "source": [
    "game_obj = ConwaysGame()\n",
    "\n",
    "game_obj.grid"
   ]
  },
  {
   "cell_type": "code",
   "execution_count": 17,
   "id": "637f1c4b-4954-4bde-950d-96c551f87d20",
   "metadata": {},
   "outputs": [
    {
     "name": "stdout",
     "output_type": "stream",
     "text": [
      "12\n"
     ]
    }
   ],
   "source": [
    "try:\n",
    "    a = game_obj.grid[10,10]\n",
    "except:\n",
    "    a = 12\n",
    "print(a)"
   ]
  },
  {
   "cell_type": "code",
   "execution_count": 11,
   "id": "78bcbfd8-6937-41ab-89e0-a298d42a82f2",
   "metadata": {},
   "outputs": [
    {
     "data": {
      "text/plain": [
       "[array([0., 0., 0., 0., 0., 0., 0., 0., 0., 0., 0., 0.]),\n",
       " array([0., 0., 0., 0., 0., 0., 0., 0., 0., 0., 0., 0.]),\n",
       " array([0., 0., 0., 0., 0., 0., 0., 0., 0., 0., 0., 0.])]"
      ]
     },
     "execution_count": 11,
     "metadata": {},
     "output_type": "execute_result"
    }
   ],
   "source": [
    "[game_obj.grid[el,] for el in [0,2,3]]"
   ]
  },
  {
   "cell_type": "code",
   "execution_count": null,
   "id": "dbe546d0-4904-4bb1-8a3b-ca6cb60cb266",
   "metadata": {},
   "outputs": [],
   "source": []
  }
 ],
 "metadata": {
  "kernelspec": {
   "display_name": "Python 3 (ipykernel)",
   "language": "python",
   "name": "python3"
  },
  "language_info": {
   "codemirror_mode": {
    "name": "ipython",
    "version": 3
   },
   "file_extension": ".py",
   "mimetype": "text/x-python",
   "name": "python",
   "nbconvert_exporter": "python",
   "pygments_lexer": "ipython3",
   "version": "3.10.5"
  }
 },
 "nbformat": 4,
 "nbformat_minor": 5
}
