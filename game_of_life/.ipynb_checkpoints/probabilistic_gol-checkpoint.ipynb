{
 "cells": [
  {
   "cell_type": "code",
   "execution_count": 1,
   "id": "d9518ae0-a6b0-441f-ace4-756803a11b9e",
   "metadata": {},
   "outputs": [],
   "source": [
    "import pandas as pd\n",
    "import numpy as np\n",
    "import matplotlib.pyplot as plt\n",
    "\n",
    "from matplotlib.animation import FuncAnimation, PillowWriter\n",
    "import matplotlib.animation as animation"
   ]
  },
  {
   "cell_type": "code",
   "execution_count": 46,
   "id": "31f43427-8759-4e7d-88c9-ea2c1f230b95",
   "metadata": {},
   "outputs": [],
   "source": [
    "class ConwaysGame:\n",
    "\n",
    "    def __init__(self, grid_size=(80,80), prob_if_0 = [0,0,0,1.0,0,0,0,0,0], prob_if_1=[0,0,1.0,1.0,0,0,0,0,0]):\n",
    "        \"\"\"\n",
    "\n",
    "        grid_size: 2D tuple defining size of grid life is playing on\n",
    "        prob_if_0: list of bernoulli probabilities where the ith element of the list represents the probability for \n",
    "            drawing a bernoulli yes if a cell with a 0 value has i neighbors with a 1 value.\n",
    "        prob_if_1: list of bernoulli probabilities where the ith element of the list represents the probability for \n",
    "            drawing a bernoulli yes if a cell with a 1 value has i neighbors with a 1 value\n",
    "        \"\"\"\n",
    "        self.prob_if_0 = prob_if_0\n",
    "        self.prob_if_1 = prob_if_1\n",
    "        self.grid_size = grid_size\n",
    "        self.grid_l = grid_size[0]\n",
    "        self.grid_w = grid_size[1]\n",
    "        self.init_grid()\n",
    "\n",
    "\n",
    "    def init_grid(self):\n",
    "        p_ones = 0.4\n",
    "        np.random.seed(42069)\n",
    "        self.grid = np.random.choice([0,1], self.grid_size, p=((1-p_ones),p_ones)) # seed random start \n",
    "        self.grids = []\n",
    "        self.grids.append(self.grid)\n",
    "        \n",
    "    def lookup_neighbor_vals(self, i,j):\n",
    "        # return right index\n",
    "        neighbors_list = []\n",
    "        neighbor_indices = [[i+i,j], [i-1,j],[i,j+1],[i,j-1],[i+1, j+1],[i+1,j-1],[i-1,j+1],[i-1,j-1]]\n",
    "        for neighbor in neighbor_indices:\n",
    "            try: \n",
    "                n_val = self.grid[neighbor[0], neighbor[1]]\n",
    "            except:\n",
    "                n_val = 0\n",
    "            neighbors_list.append(n_val)\n",
    "        return neighbors_list\n",
    "\n",
    "    def update_cell(self, cell_i, cell_j):\n",
    "        cell_val = self.grid[cell_i, cell_j]\n",
    "        neighbor_vals = self.lookup_neighbor_vals(cell_i, cell_j)\n",
    "        total_neighbors = int(np.sum(neighbor_vals))\n",
    "        if cell_val==0:\n",
    "            new_val = np.random.binomial(1, self.prob_if_0[total_neighbors])\n",
    "        elif cell_val==1:\n",
    "            new_val = np.random.binomial(1, self.prob_if_1[total_neighbors])\n",
    "        return new_val\n",
    "\n",
    "    def update_grid(self):\n",
    "        new_grid = np.zeros(self.grid_size)\n",
    "        self.track_ids = []\n",
    "        for i in range(0, self.grid_l):\n",
    "            for j in range(0, self.grid_w):\n",
    "                self.track_ids.append([i,j])\n",
    "                new_grid[i,j] = self.update_cell(i,j)\n",
    "        self.grid = new_grid\n",
    "        self.grids.append(self.grid)\n",
    "\n",
    "    def run_game_for_x_turns(self, x=160):\n",
    "        for i in range(0, x):\n",
    "            self.update_grid()\n",
    "        self.turns = x\n",
    "\n",
    "    def visualize_game(self, save=False):\n",
    "        N_plots= self.turns\n",
    "        fig,ax = plt.subplots()\n",
    "        \n",
    "        ims = []\n",
    "        for i in range(0,N_plots):\n",
    "            im = ax.matshow(game_obj.grids[i], animated=True)\n",
    "            ims.append([im])\n",
    "        ani = animation.ArtistAnimation(fig, ims, interval=100, blit=True,\n",
    "                                        repeat_delay=1000)\n",
    "        writergif = animation.PillowWriter(fps=3) \n",
    "        if save:\n",
    "            ani.save(\"prob_gol.gif\")\n",
    "                \n",
    "        \n",
    "    \n",
    "        \n",
    "\n",
    "\n",
    "\n"
   ]
  },
  {
   "cell_type": "code",
   "execution_count": 47,
   "id": "86455ea8-5aa6-4843-82ed-07baf4715743",
   "metadata": {},
   "outputs": [],
   "source": [
    "game_obj = ConwaysGame(prob_if_0 = [0,0,0.1,1.0,0,0,0,0,0], prob_if_1=[0,0,1.0,1.0,0,0,0,0,0])\n",
    "\n"
   ]
  },
  {
   "cell_type": "code",
   "execution_count": null,
   "id": "086b1d07-235a-4a83-b4d5-b5e1a07ed126",
   "metadata": {},
   "outputs": [],
   "source": [
    "game_obj.run_game_for_x_turns()"
   ]
  },
  {
   "cell_type": "code",
   "execution_count": null,
   "id": "abd2f68b-689b-4f53-ae4f-49fcc0afc52b",
   "metadata": {},
   "outputs": [],
   "source": [
    "game_obj.visualize_game(save=True)"
   ]
  },
  {
   "cell_type": "code",
   "execution_count": null,
   "id": "c2bc68c0-8565-4509-b950-0430377a0aca",
   "metadata": {},
   "outputs": [],
   "source": []
  },
  {
   "cell_type": "code",
   "execution_count": null,
   "id": "8d4a8c3d-c9a1-4c26-b41f-a4542422cc88",
   "metadata": {},
   "outputs": [],
   "source": []
  }
 ],
 "metadata": {
  "kernelspec": {
   "display_name": "Python 3 (ipykernel)",
   "language": "python",
   "name": "python3"
  },
  "language_info": {
   "codemirror_mode": {
    "name": "ipython",
    "version": 3
   },
   "file_extension": ".py",
   "mimetype": "text/x-python",
   "name": "python",
   "nbconvert_exporter": "python",
   "pygments_lexer": "ipython3",
   "version": "3.10.5"
  }
 },
 "nbformat": 4,
 "nbformat_minor": 5
}
