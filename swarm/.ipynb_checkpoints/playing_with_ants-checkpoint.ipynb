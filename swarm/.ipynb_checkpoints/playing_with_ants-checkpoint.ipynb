{
 "cells": [
  {
   "cell_type": "markdown",
   "id": "fa8449ae-2f32-48a1-9068-6b06320941a9",
   "metadata": {},
   "source": [
    "saw some cool ants, and I wanted to make something that looked like them :)\n",
    "\n",
    "here's what we'll do, each time an ant goes somewhere it leaves a scent. that scent has a time decay period. when an ant finds sugar, it'll pick it up. but we also want to drive variability right? also this is only useful based on the belief that the sugar clusters. which it should! to some degree. we want the ant to random walk over weighted probabilities. \n",
    "\n",
    "oh you know what? the ant needs an orientation. and it costs the ant a turn to rotate. i saw this observing the ants! how about have ants weight their direction to be forwards rather than backwards?\n",
    "\n",
    "i think the return behavior actually matters because it reinforces the algo. so, ant has an explore mode and a return mode?\n",
    "\n",
    "ok how about when an ant finds food it drops a second kind of pheromone, a \"local search\" pheromone that says hey i found food here, look around locally. it has the ant strongly pull away from the food square after it has just been on it. \n",
    "\n",
    "can ants stack? yes but only two per square. \n",
    "what happens when it hits sugar? it follows it back? \n",
    "\n",
    "maybe the ant has a desire not to backtrack? so it \n",
    "\n",
    "so, we'll build a class that generates the sugar field, and passes it to ant hive that initializes. We'll use gaussian random fields to populate the grid with a GRF and then draw binary sugar presence / absence from it. \n"
   ]
  },
  {
   "cell_type": "code",
   "execution_count": 41,
   "id": "24d10824-2677-4e6c-a9e0-e15b8afdef01",
   "metadata": {},
   "outputs": [],
   "source": [
    "import numpy as np\n",
    "from FyeldGenerator import generate_field\n",
    "import scipy.stats as st\n",
    "import matplotlib.pyplot as plt\n",
    "import json\n",
    "import copy\n",
    "import random\n",
    "from matplotlib.colors import LinearSegmentedColormap"
   ]
  },
  {
   "cell_type": "code",
   "execution_count": 2,
   "id": "583ca880-aea8-4269-ab0f-3b363cdcdcdb",
   "metadata": {},
   "outputs": [],
   "source": [
    "class SugarField:\n",
    "\n",
    "    def __init__(self, grid_size=(100,100), grf_shape_param= 7, grf_damper=1, grid_type='grf'):\n",
    "        \"\"\"\n",
    "\n",
    "        grid_size: 2D tuple defining size of grid life is playing on\n",
    "        \"\"\"\n",
    "        self.grf_shape_param = grf_shape_param\n",
    "        self.grf_damper = grf_damper\n",
    "        self.grid_size = grid_size\n",
    "        self.grid_l = grid_size[0] # up / down\n",
    "        self.grid_w = grid_size[1] \n",
    "        self.gen_sugar_field(grid_type=grid_type)\n",
    "\n",
    "\n",
    "    def gen_sugar_field(self, grid_type):\n",
    "        np.random.seed(42069)\n",
    "        if grid_type == 'uniform_rand':\n",
    "            p_ones = 0.4\n",
    "            self.grid = np.random.choice([0,1], self.grid_size, p=((1-p_ones),p_ones)) # seed random start \n",
    "        if grid_type == 'grf':\n",
    "            self.gen_corr_probability_field() # creates self.grid_init_prob_field\n",
    "            self.grid = np.random.binomial(n=1, p=self.grid_init_prob_field, size=self.grid_size)\n",
    "        # something to add: a situation where a gaussian random field sets the seed probability as a function of space!\n",
    "\n",
    "\n",
    "    def gen_corr_probability_field(self):\n",
    "        \"\"\"\n",
    "        uses random fields to generate a spatially correlated field of bernoulli probabilities, one probability per grid cell, \n",
    "        which we'll use to draw an initial grid of 1s and 0s for conway's game\n",
    "        \"\"\"\n",
    "        def Pkgen(n):\n",
    "            def Pk(k):\n",
    "                return np.power(k, -n)\n",
    "        \n",
    "            return Pk\n",
    "        \n",
    "        \n",
    "        # Draw samples from a normal distribution\n",
    "        def distrib(shape):\n",
    "            a = np.random.normal(loc=0, scale=1, size=shape)\n",
    "            b = np.random.normal(loc=0, scale=1, size=shape)\n",
    "            return a + 1j * b\n",
    "        \n",
    "        \n",
    "        shape = (self.grid_l, self.grid_w)\n",
    "        \n",
    "        field = generate_field(distrib, Pkgen(self.grf_shape_param), shape) # 7 just because I like the grouping effect\n",
    "        z_field = (field-np.mean(field))/np.std(field)\n",
    "        prob_field= st.norm.cdf(z_field) / self.grf_damper #grf dampener is because my probability field was too high; too much sugar! \n",
    "        self.grid_init_prob_field = prob_field\n",
    "\n",
    "    def plot_field(self):\n",
    "        plt.imshow(self.grid, cmap='binary', interpolation='nearest')\n",
    "        \n"
   ]
  },
  {
   "cell_type": "code",
   "execution_count": 3,
   "id": "54e38b08-a02d-4717-9505-5c48e7ef4e80",
   "metadata": {},
   "outputs": [
    {
     "data": {
      "image/png": "[encoded data removed]",
      "text/plain": [
       "<Figure size 640x480 with 1 Axes>"
      ]
     },
     "metadata": {},
     "output_type": "display_data"
    }
   ],
   "source": [
    "sf= SugarField(grf_shape_param=30, grf_damper=50)\n",
    "sf.plot_field()"
   ]
  },
  {
   "cell_type": "code",
   "execution_count": 156,
   "id": "b2cecdff-6fa9-4ccd-9fd9-1dd366ab65af",
   "metadata": {},
   "outputs": [
    {
     "data": {
      "image/png": "[encoded data removed]",
      "text/plain": [
       "<Figure size 640x480 with 1 Axes>"
      ]
     },
     "metadata": {},
     "output_type": "display_data"
    }
   ],
   "source": [
    "sf= SugarField(grf_shape_param=30, grf_damper=1)\n",
    "sf.plot_field()"
   ]
  },
  {
   "cell_type": "code",
   "execution_count": 5,
   "id": "4676763b-e7eb-420e-8f42-5816d4016c4a",
   "metadata": {},
   "outputs": [
    {
     "data": {
      "text/plain": [
       "array([1, 1, 1, 1, 0, 0, 0, 1, 1])"
      ]
     },
     "execution_count": 5,
     "metadata": {},
     "output_type": "execute_result"
    }
   ],
   "source": [
    "sf.grid[0,90:99] # observe: going \"west to east\" means increasing the second index"
   ]
  },
  {
   "cell_type": "code",
   "execution_count": 6,
   "id": "97fe8419-449a-44e6-a192-653cddd0dda2",
   "metadata": {},
   "outputs": [
    {
     "data": {
      "text/plain": [
       "array([0, 0, 0, 0, 1, 1, 0, 0, 0])"
      ]
     },
     "execution_count": 6,
     "metadata": {},
     "output_type": "execute_result"
    }
   ],
   "source": [
    "sf.grid[90:99,0] # likewise going \"north to south\" means increasing the first index"
   ]
  },
  {
   "cell_type": "code",
   "execution_count": 379,
   "id": "91f0cd7f-c8d6-4c40-ba14-36cb1fcd2dfd",
   "metadata": {},
   "outputs": [],
   "source": [
    "# going to build separate ant and hive objects\n",
    "# heh could even have the hive try to coordinate among multiple sugar fields in parallel and have it cost something to generate an ant at one field\n",
    "# let ants stack for now\n",
    "\n",
    "class AntMind:\n",
    "    \n",
    "    def __init__(self, ant_orientation):\n",
    "        \"\"\"\n",
    "\n",
    "        ant_orientation: where the ant is pointed. equivalent to the ant's previous move (ant only points where it moves). probabilities\n",
    "        are \n",
    "        \"\"\"\n",
    "        self.has_sugar = 0 # do we have it currently?\n",
    "        self.picked_up_sugar_this_turn = 0 # did we pick it up this turn?\n",
    "        #self.local_grid = local_grid\n",
    "        self.orientation = ant_orientation\n",
    "\n",
    "        self.moveset = []\n",
    "        #self.moveset.append(self.orientation) # where it came from!\n",
    "\n",
    "        #note: going \"west to east\" means increasing the second index, likewise going \"north to south\" means increasing the first index\n",
    "        self.flip_orientation_dict ={'[0, 0]':[2,2],'[0, 1]':[2,1],'[0, 2]':[2,0],'[1, 0]':[1,2], '[1, 2]':[1,0], '[2, 0]':[0,2], '[2, 2]':[0,0], '[2, 1]':[0,1]}\n",
    "\n",
    "        \n",
    "    def move_ant(self, local_grid):\n",
    "        \"\"\"\n",
    "        local_grid: pass the ant a local grid consisting of where it is and the grid squares around there, including any objects\n",
    "            in the local grid (objects such as pheromones or sugar). we'll also update the local grid and then pass it back out. \n",
    "            local grid is a dict of grids actually. one grid is the pheromone grid. since the grid is 3x3 numpy array, the ant\n",
    "            itself is located at indices [1,1]\n",
    "        \"\"\"\n",
    "        self.local_grid = local_grid\n",
    "        self.local_grid_in = copy.deepcopy(local_grid)\n",
    "        self.drop_pheromone()\n",
    "\n",
    "        if self.has_sugar:\n",
    "            # if the ant already has sugar, keep sending it home!\n",
    "            self.step_home()\n",
    "\n",
    "        elif self.local_grid['sugar'][1,1] == 1: # on sugar!\n",
    "            self.pick_up_sugar()\n",
    "\n",
    "\n",
    "        else:\n",
    "            self.step_forward()\n",
    "\n",
    "        # have the HiveMind object then pull the following: self.next_move, self.local_grid\n",
    "        # then HiveMind has to update the relative grid with the current local grid, and move the ant!\n",
    "\n",
    "        # TODO: note that right now neither these nor the local pheromone update matter; we are directly updating in WorldMind\n",
    "        # in the future it'd be nice to use these instead but you have to update the grids before moving the ant both\n",
    "        # in the ant object and the mind object; \n",
    "        self.pher_update = self.local_grid['pher'] - self.local_grid_in['pher']\n",
    "        self.sugar_update = self.local_grid['sugar'] - self.local_grid_in['sugar']\n",
    "        self.delta_grid = {'sugar':self.sugar_update, 'pher':self.pher_update}\n",
    "\n",
    "    def pick_up_sugar(self):\n",
    "        self.has_sugar = 1 # pick it up\n",
    "        self.local_grid['sugar'][1,1] = 0 # sugar no longer on the grid\n",
    "        self.step_home() # begin walking home, also this ensures we always have a self.next_move because we need it; the world object uses this to move!\n",
    "\n",
    "        self.picked_up_sugar_this_turn = 1 # note you picked up up this turn\n",
    "        # note that self.step_home() command needs to shut picked up sugar this turn off but then we turn it back on\n",
    "\n",
    "    def step_forward(self):\n",
    "        \n",
    "        self.gen_weights() # generate the weights for moving forward\n",
    "        self.get_next_move()\n",
    "        self.orientation = self.next_move # going to return the next move as well as updated grid to the grid coordinator; ant updates orientation before moving\n",
    "        self.moveset.append(self.orientation) # only append last move to moveset when moving forward\n",
    "\n",
    "\n",
    "    def gen_weights(self):\n",
    "\n",
    "        \n",
    "        \"\"\"\n",
    "        we generate a set of weights that add to 1, assigned to each element of the grid (zeroed out for the center element)\n",
    "        from these weights we'll draw a new direction to move in\n",
    "        we set a greater weight to the direction we're pointed in\n",
    "        \"\"\"\n",
    "\n",
    "        weight_unit = 50\n",
    "        \n",
    "        weights = np.zeros([3,3])\n",
    "        weights[self.orientation[0],self.orientation[1]] += weight_unit # add 1 to currently pointed direction\n",
    "\n",
    "        # cool little algo to get the indices of the two \"neighboring\" directions to our currently pointed direction\n",
    "        # e.g. if we were pointed south we'd want southwest and southeast\n",
    "        # basically we joystick up, down, left, and right, and throw it out if we hit the center or go off the 3x3\n",
    "        potential_neighbors = [[self.orientation[0]+1,self.orientation[1]],[self.orientation[0]-1,self.orientation[1]],[self.orientation[0],self.orientation[1]+1],[self.orientation[0],self.orientation[1]-1]]\n",
    "        neighbors = [el for el in potential_neighbors if (el!=[1,1] and el[0]>= 0 and el[0]<=2 and el[1]>=0 and el[1]<=2)] \n",
    "\n",
    "        weights[neighbors[0][0],neighbors[0][1]]+= weight_unit / 2\n",
    "        weights[neighbors[1][0],neighbors[1][1]]+= weight_unit / 2\n",
    "\n",
    "        weights = weights + self.local_grid['pher'] # add pheromone values directly to weights; note they're in same units!\n",
    "\n",
    "        weights[1,1] = 0 # no need to regard weight on current location\n",
    "\n",
    "        # drop weight to 0 for any wall locations\n",
    "\n",
    "        weights = np.multiply(weights, 1-self.local_grid['wall'])\n",
    "\n",
    "        # don't go back the way we came\n",
    "        last_position = self.flip_orientation(self.orientation) # get the coords for the direction we came back from\n",
    "        weights[last_position[0], last_position[1]] = 0 # set the probabilities of moving to those coords to 0\n",
    "\n",
    "        # note: we hit an edge case where things get stuck (all weights are 0). if this is ever the case, go back!\n",
    "        if np.sum(weights) == 0:\n",
    "            weights[last_position[0], last_position[1]] = 1 # set the probabilities of moving to those coords to 0\n",
    "\n",
    "        self.weights = weights / np.sum(weights) # normalize weights\n",
    "\n",
    "    def get_next_move(self):\n",
    "\n",
    "        flat_weights = self.weights.flatten() # flatten the weights\n",
    "        selected_flat_idx = np.random.choice(len(flat_weights), p=flat_weights) # select, based on weights which are probabilities, a direction\n",
    "        selected_idx = np.unravel_index(selected_flat_idx, np.shape(self.weights)) # put that direction back into our 3x3 coords\n",
    "        self.next_move = list(selected_idx)\n",
    "        \n",
    "\n",
    "    def step_home(self):\n",
    "        \"\"\"for now we'll just have the ant retrace its steps exactly to get home!\"\"\"\n",
    "        self.picked_up_sugar_this_turn = 0 # sub optimal engineering means you need to make sure this switch gets off each time he steps home\n",
    "        last_move = self.moveset.pop()\n",
    "        self.next_move = self.flip_orientation(last_move) # reverse\n",
    "        self.orientation = self.next_move\n",
    "        \n",
    "        \n",
    "    \n",
    "    \n",
    "    def flip_orientation(self, orientation):\n",
    "        \n",
    "        # self.flip_orientation_dict ={'[0,0]':[2,2],'[0,1]':[2,1],'[0,2]':[2,0],'[1,0]':[1,2], '[1,2]':[1,0], '[2,0]':[0,2], '[2,2]':[0,0]}\n",
    "        # update dict turns whatever cardinal direction we're pointing in and returns the flip\n",
    "        # imagine a 3x3 grid standing for the compass, so north is at [0,1] and south is at [2,1]; so if we input N we return S\n",
    "        # just needed to define it once so moved it to init, left it here for clarity\n",
    "        \n",
    "        orientation = self.flip_orientation_dict[str(orientation)] \n",
    "        return orientation\n",
    "\n",
    "    def drop_pheromone(self):\n",
    "        self.local_grid['pher'][1,1] += 1 #local_grid is a dict\n",
    "\n",
    "\n",
    "    \n",
    "        \n",
    "        "
   ]
  },
  {
   "cell_type": "code",
   "execution_count": 380,
   "id": "2a9823ad-1624-4531-aaef-0ae70d89aeed",
   "metadata": {},
   "outputs": [],
   "source": [
    "\"\"\"\n",
    "test our ant class; pass it a dummy grid and let it make a move, and see if it updates local grid, stores the move, and updates orientation\n",
    "\"\"\"\n",
    "\n",
    "test_pher = np.zeros([3,3])\n",
    "test_pher[0,1] = 1\n",
    "test_pher[2,2]=0.5\n",
    "test_wall = np.zeros([3,3])\n",
    "test_wall[0,1] = 1\n",
    "test_sugar = np.zeros([3,3])\n",
    "test_grid = {'pher':test_pher, 'sugar':test_sugar, 'wall':test_wall}\n",
    "test_ant = AntMind([0,1])\n",
    "test_ant.move_ant(test_grid) "
   ]
  },
  {
   "cell_type": "code",
   "execution_count": 381,
   "id": "649e700c-b87a-4d49-8a5b-04d1cdf83526",
   "metadata": {},
   "outputs": [
    {
     "data": {
      "text/plain": [
       "array([[0. , 1. , 0. ],\n",
       "       [0. , 1. , 0. ],\n",
       "       [0. , 0. , 0.5]])"
      ]
     },
     "execution_count": 381,
     "metadata": {},
     "output_type": "execute_result"
    }
   ],
   "source": [
    "test_ant.local_grid['pher']"
   ]
  },
  {
   "cell_type": "code",
   "execution_count": 382,
   "id": "ac6682e1-144d-46d8-92cb-13e327696065",
   "metadata": {},
   "outputs": [
    {
     "data": {
      "text/plain": [
       "array([[0., 1., 0.],\n",
       "       [0., 0., 0.],\n",
       "       [0., 0., 0.]])"
      ]
     },
     "execution_count": 382,
     "metadata": {},
     "output_type": "execute_result"
    }
   ],
   "source": [
    "test_ant.local_grid['wall']"
   ]
  },
  {
   "cell_type": "code",
   "execution_count": 383,
   "id": "bdabf5f6-f4e0-4c49-a08e-bd748b21aa1a",
   "metadata": {},
   "outputs": [
    {
     "data": {
      "text/plain": [
       "array([[0., 0., 0.],\n",
       "       [0., 0., 0.],\n",
       "       [0., 0., 0.]])"
      ]
     },
     "execution_count": 383,
     "metadata": {},
     "output_type": "execute_result"
    }
   ],
   "source": [
    "test_ant.local_grid['sugar']"
   ]
  },
  {
   "cell_type": "code",
   "execution_count": 384,
   "id": "706fd494-fe6e-4874-8caa-1a684c3c5fb7",
   "metadata": {},
   "outputs": [
    {
     "data": {
      "text/plain": [
       "[[0, 2]]"
      ]
     },
     "execution_count": 384,
     "metadata": {},
     "output_type": "execute_result"
    }
   ],
   "source": [
    "test_ant.moveset"
   ]
  },
  {
   "cell_type": "code",
   "execution_count": 385,
   "id": "549313ca-dc87-4abd-8f68-3a5512882390",
   "metadata": {},
   "outputs": [
    {
     "data": {
      "text/plain": [
       "[0, 2]"
      ]
     },
     "execution_count": 385,
     "metadata": {},
     "output_type": "execute_result"
    }
   ],
   "source": [
    "test_ant.orientation"
   ]
  },
  {
   "cell_type": "code",
   "execution_count": 386,
   "id": "f66e90a6-a6c8-482d-aaf9-8b142746170b",
   "metadata": {},
   "outputs": [
    {
     "data": {
      "text/plain": [
       "array([[0.4950495 , 0.        , 0.4950495 ],\n",
       "       [0.        , 0.        , 0.        ],\n",
       "       [0.        , 0.        , 0.00990099]])"
      ]
     },
     "execution_count": 386,
     "metadata": {},
     "output_type": "execute_result"
    }
   ],
   "source": [
    "test_ant.weights"
   ]
  },
  {
   "cell_type": "code",
   "execution_count": 631,
   "id": "e8485127-87c5-4db7-859b-a89c835a4123",
   "metadata": {},
   "outputs": [],
   "source": [
    "class WorldMind:\n",
    "    \"\"\"\n",
    "    The WorldMind object takes in the sugar field, initializes ants, and handles interactions between the ant (and it's local knowledge)\n",
    "    and the global world\n",
    "    \"\"\"\n",
    "\n",
    "    def __init__(self, sugar_field, home_coords = [0,0], spawn_param=0.5, max_ants = 100):\n",
    "\n",
    "        \"\"\"\n",
    "        sugar_field: object of SugarField class\n",
    "        init_ants: list of dicts, each dict has keys global_coord and orientation to initialize a single AntMind object with\n",
    "        \"\"\"\n",
    "        np.random.seed(9890)\n",
    "        random.seed(4829)\n",
    "        self.turn_number = 0\n",
    "        self.sf = copy.deepcopy(sugar_field) # 1s and 0s\n",
    "        self.global_grid = {} # convert sugar field to absolute grid, which is a dict with two arrays and keys sugar and pher\n",
    "        self.global_grid['sugar'] = self.sf # set sugar field\n",
    "        self.global_grid['pher'] = np.zeros(np.shape(self.sf)) # initialize empty pheromone field\n",
    "\n",
    "        # introducing \"wall field\"; basically we make the boundary impermeable; since our local grid is 3x3 we just set the borders to wall\n",
    "        # grid \n",
    "        self.grid_size_0 = np.shape(self.sf)[0]\n",
    "        self.grid_size_1 = np.shape(self.sf)[1]\n",
    "\n",
    "        self.global_grid['wall'] = np.zeros(np.shape(self.sf)) # initialize empty wall field field\n",
    "        self.global_grid['wall'][0:self.grid_size_0, 0] = 1\n",
    "        self.global_grid['wall'][0:self.grid_size_0, self.grid_size_1-1] = 1\n",
    "        self.global_grid['wall'][0, 0:self.grid_size_1] = 1\n",
    "        self.global_grid['wall'][self.grid_size_0-1, 0:self.grid_size_1] = 1\n",
    "\n",
    "\n",
    "        \n",
    "        self.home_coords = home_coords\n",
    "\n",
    "        self.sugar_score = 0 # colony's total amount of accrued sugar\n",
    "\n",
    "        \n",
    "        self.ants = [] # list of active ants\n",
    "\n",
    "        # params used to manage ant spawn rate (rate at which ants emerge from the colony)\n",
    "        #self.spawn_default_rate = spawn_default_rate \n",
    "        self.spawn_param = spawn_param # poisson parameter for new ant spawn rate\n",
    "        self.max_ants = max_ants # maximum number of ants in the game\n",
    "        #self.spawn_ants(init_ants_dict)\n",
    "        #self.spawn_ants_old(init_ants) # what do the ants need? each ant needs an initial coordinate and an initialized mind\n",
    "\n",
    "    def spawn_ants(self):\n",
    "        \"\"\"\n",
    "        here's how ant spawning will work! we'll randomly spawn based on a poisson process. For now we spawn ants until we hit a max.\n",
    "        Later it would be cool to have the spawn rate vary by turn, depending on how much sugar is being collected now.\n",
    "        Could do this by having a rate that spikes when sugar score goes up and then decays back to some baseline rate (by making\n",
    "        the rate a max of some min rate and the decaying rate). But I think for this mechanic to make sense we need to make\n",
    "        sure ants can disappear as well as spawn. Maybe when an ant returns home it could have a don't come back out probability.\n",
    "        \"\"\"\n",
    "        num_ants = len(self.ants)\n",
    "        if num_ants < self.max_ants:\n",
    "            num_new_ants = np.random.poisson(self.spawn_param)\n",
    "            num_new_ants = np.min((num_new_ants, self.max_ants - num_ants)) # ensures we don't make more ants than the max possible\n",
    "        \n",
    "            for i in range(num_new_ants):\n",
    "                ant_coord = self.home_coords\n",
    "                ant_orientation = random.choice([[0,0],[0,1],[0,2],[1,0],[1,2],[2,0],[2,1],[2,2]]) # randomly select a valid orientation\n",
    "                ant_mind = AntMind(ant_orientation)\n",
    "                #ant = {'global_coord':ant_coord, 'mind':ant_mind, 'diagnostic':[ant_coord, [], []]}\n",
    "                ant = {'global_coord':ant_coord, 'mind':ant_mind}\n",
    "\n",
    "                self.ants.append(ant)\n",
    "\n",
    "        \n",
    "\n",
    "    \n",
    "    def spawn_ants_old(self, init_ants):\n",
    "        self.ants = []\n",
    "        for init_ant in init_ants:\n",
    "            ant_coord = init_ant['global_coord']\n",
    "            ant_mind = AntMind(init_ant['orientation'])\n",
    "            ant = {'global_coord':ant_coord, 'mind':ant_mind}\n",
    "            self.ants.append(ant)\n",
    "            \n",
    "            \n",
    "    \n",
    "    def next_turn(self):\n",
    "        self.turn_number += 1\n",
    "        self.decay_pheromones()\n",
    "        self.spawn_ants()\n",
    "        self.move_ants()\n",
    "        \n",
    "\n",
    "    def decay_pheromones(self):\n",
    "        self.half_life = 10 # good param to play with alongside weight param\n",
    "        decay_rate = np.log(2) / self.half_life\n",
    "        self.global_grid['pher'] = self.global_grid['pher']*np.exp(-1.0*decay_rate)\n",
    "\n",
    "    def move_ants(self):\n",
    "\n",
    "        for ant in self.ants:\n",
    "            self.update_ant_and_grid(ant) \n",
    "    \n",
    "\n",
    "    def update_ant_and_grid(self, ant):\n",
    "        \"\"\"\n",
    "        each ant's state includes the ant object as well as its coordinates\n",
    "        to run the loop on the ant we need to use its coordinates to query the global grid (sugar_field)\n",
    "        \"\"\"\n",
    "        ant_mind = ant['mind']\n",
    "        ant_coord = ant['global_coord']\n",
    "\n",
    "        # if ant has sugar and has returned home, let it drop sugar. need to do this before moving b/c moveset will be empty\n",
    "        self.update_sugar(ant)\n",
    "\n",
    "\n",
    "        ant_local_grid = self.get_local_grid_from_coord(ant_coord)\n",
    "\n",
    "\n",
    "        self.update_global_grid_due_to_ant(ant) # drop pheromone and possibly pick up sugar irl using old coords\n",
    "        ant_mind.move_ant(ant_local_grid) # tells you where the ant is moving and whether it got sugar\n",
    "        self.update_ant_location(ant, ant_mind.next_move) # update ant's coordinates irl\n",
    "\n",
    "\n",
    "        \n",
    "        # TODO: what order do we update the global grid in? OR how do we make updates additive? \n",
    "        \n",
    "        \n",
    "        # idea is to set self.new_grid = self.global_grid return the \"delta grid\" for each ant, add them all to self.new_grid, THEN set self.global_grid = self.new_grid\n",
    "        # ok this almost will work, but what if multiple ants pick up the sugar? that doesn't work. so we want the sugar to update directly\n",
    "        # to the global grid, so if one ant picks it up another cannot. but the pheromones we want to update once per turn, so that \n",
    "        # one ant's pheromone update earlier in the loop doesn't affect the next ant's update later in the loop\n",
    "\n",
    "        #TODO: I'm doing this wrong. pheromone decay should happen in the world, not for each ant. and the world should simply\n",
    "        # note an added pheromone point for the ant and possibly a sugar pickup\n",
    "\n",
    "        \n",
    "        return\n",
    "\n",
    "    def update_sugar(self, ant):\n",
    "        if (ant['mind'].has_sugar == 1) and (ant['global_coord']==self.home_coords):\n",
    "            ant['mind'].has_sugar = 0\n",
    "            self.sugar_score += 1\n",
    "        return\n",
    "        \n",
    "    def get_local_grid_from_coord(self, coord):\n",
    "        \"\"\"takes in a coordinate for the global grid and returns the 3x3 local grid that the ant needs\"\"\"\n",
    "\n",
    "        i = coord[0] \n",
    "        j = coord[1]\n",
    "        ant_grid = {}\n",
    "        ant_grid['pher'] = self.global_grid['pher'][i-1:i+2, j-1:j+2]\n",
    "        ant_grid['sugar'] = self.global_grid['sugar'][i-1:i+2, j-1:j+2]\n",
    "        ant_grid['wall'] = self.global_grid['wall'][i-1:i+2, j-1:j+2]\n",
    "        return ant_grid\n",
    "\n",
    "    def update_global_grid_due_to_ant(self, ant):\n",
    "\n",
    "        # TODO: use the ant's own pher_update and sugar_update mechanisms to update\n",
    "        # however right now this is easier because the ruleset for adding sugar and phers is simple and easy to append directly\n",
    "        self.global_grid['pher'][ant['global_coord'][0],ant['global_coord'][1]] += 1 # add pheromones\n",
    "        if ant['mind'].picked_up_sugar_this_turn:\n",
    "            self.global_grid['sugar'][ant['global_coord'][0], ant['global_coord'][1]] = 0 # set sugar to 0\n",
    "        \n",
    "    def update_ant_location(self, ant, next_move):\n",
    "        \"\"\"\n",
    "        using the next_move value which is like a cardinal direction e.g. [0,0] for northwest, update the ant's location. handle edge cases\n",
    "        \"\"\"\n",
    "        additive_move = [el - 1 for el in next_move] # sets it so NW move is -1,-1 instead of 0,0; now we can just add it \n",
    "        ant['global_coord'] = [sum(x) for x in zip(ant['global_coord'], additive_move)] # does pairwise addition for elements of lists\n",
    "        #ant['diagnostic'].append([ant['global_coord'], copy.deepcopy(ant['mind'].moveset), ant['mind'].next_move])\n",
    "\n",
    "    def hive_plots(self):\n",
    "\n",
    "        self.get_ant_grid()\n",
    "        plt.figure(figsize=(5, 5))\n",
    "        plt.imshow(self.ant_grid, cmap='Reds', alpha=0.9)\n",
    "        plt.imshow(self.global_grid['pher']>0, cmap='grey', alpha=0.3) # ant's been here component\n",
    "        plt.title('Ant Past and Present Plot') \n",
    "\n",
    "        plt.figure(figsize=(5, 5))\n",
    "        plt.imshow(self.global_grid['sugar'])\n",
    "        plt.title('Sugar Plot')\n",
    "        \n",
    "        plt.figure(figsize=(5, 5))\n",
    "        plt.imshow(self.global_grid['pher'])\n",
    "        plt.title('Pher Plot')\n",
    "\n",
    "        #plt.figure(figsize=(5, 5))\n",
    "        #plt.imshow(self.global_grid['pher']>0)\n",
    "        #plt.title('Ants Been Here Plot')\n",
    "\n",
    "\n",
    "\n",
    "  \n",
    "\n",
    "        #self.hive_megaplot() # super ugly as of now\n",
    "\n",
    "        print(\"Turn Number: \" + str(self.turn_number))\n",
    "        print(\"Number of Ants: \" + str(len(self.ants)))\n",
    "        print(\"Sugar Score: \" + str(self.sugar_score))\n",
    "        \n",
    "\n",
    "    def hive_megaplot(self):\n",
    "        grid = self.global_grid\n",
    "        \n",
    "        fig, ax = plt.subplots(figsize=(6, 6))\n",
    "        ax.imshow(grid['sugar'], cmap='gray', vmin=0, vmax=1, alpha=1)\n",
    "        #ax.imshow(grid['pher'], cmap='magma', vmin=0, vmax=1, alpha=0.2)\n",
    "        #score_image = ax.imshow(grid['pher'], cmap='magma', vmin=grid['pher'].min(), vmax=grid['pher'].max(), alpha=0.3)\n",
    "        score_image = ax.imshow(grid['pher'], cmap='hot', vmin=grid['pher'].min(), vmax=grid['pher'].max(), alpha=0.7)\n",
    "        cbar = plt.colorbar(score_image, ax=ax, orientation='vertical')\n",
    "        cbar.set_label('pher')\n",
    "        plt.show()\n",
    "\n",
    "    def next_k_turns(self, k):\n",
    "        for i in range(500):\n",
    "            self.next_turn()\n",
    "\n",
    "    def get_ant_grid(self):\n",
    "        \n",
    "        self.ant_grid = np.zeros([self.grid_size_0,self.grid_size_1])\n",
    "        for ant in self.ants:\n",
    "            coord = ant['global_coord']\n",
    "            self.ant_grid[coord[0], coord[1]]+=1\n"
   ]
  },
  {
   "cell_type": "code",
   "execution_count": 632,
   "id": "58676763-f5fe-40d0-bc7e-e13909e0b1dd",
   "metadata": {},
   "outputs": [],
   "source": [
    "## TODOs: add visualizers! I think this is working now so I want "
   ]
  },
  {
   "cell_type": "code",
   "execution_count": 647,
   "id": "9726414e-c174-4dfc-87bb-2777d0bf159e",
   "metadata": {},
   "outputs": [],
   "source": [
    "\"\"\"\n",
    "test the world mind\n",
    "\"\"\"\n",
    "\n",
    "test_hive = WorldMind(sf.grid, home_coords =[40,40], max_ants=100)"
   ]
  },
  {
   "cell_type": "code",
   "execution_count": 653,
   "id": "55218b5b-bed9-49d2-a591-84880107549e",
   "metadata": {},
   "outputs": [
    {
     "name": "stdout",
     "output_type": "stream",
     "text": [
      "Turn Number: 3000\n",
      "Number of Ants: 100\n",
      "Sugar Score: 1578\n"
     ]
    },
    {
     "data": {
      "image/png": "[encoded data removed]",
      "text/plain": [
       "<Figure size 500x500 with 1 Axes>"
      ]
     },
     "metadata": {},
     "output_type": "display_data"
    },
    {
     "data": {
      "image/png": "[encoded data removed]",
      "text/plain": [
       "<Figure size 500x500 with 1 Axes>"
      ]
     },
     "metadata": {},
     "output_type": "display_data"
    },
    {
     "data": {
      "image/png": "[encoded data removed]",
      "text/plain": [
       "<Figure size 500x500 with 1 Axes>"
      ]
     },
     "metadata": {},
     "output_type": "display_data"
    }
   ],
   "source": [
    "test_hive.next_k_turns(50000)\n",
    "test_hive.hive_plots()"
   ]
  },
  {
   "cell_type": "markdown",
   "id": "aebb0cac-1c12-4d7a-a475-0a657b553f15",
   "metadata": {},
   "source": [
    "### Notes So Far\n",
    "\n",
    "I LOOOOOOVE the pher plot most of all. It's amazing to watch its time evolution. I'm wondering if it might be better to bring in a non-pandas piece to actually visualize (like using Processing and just having numpy arrays as inputs). \n",
    "\n",
    "The \"GAME\" is to define different params and see what your strategy looks like and how well it works! For example you can change the halflife of the pheromones, or the amount of weight you put on each direction. Both these changes how easily ants for example get trapped in a pheromone loop vs. go exploring.\n",
    "\n",
    "I bet different strategies matter for time evolving fields, dense fields, sparse fields, etc. ant birth and death is interesting and you know, we could make it a function of sugar! like the more sugar the colony accumulates the more it can birth but it also needs to keep accumulating sugar or ants start to die. that would be really cool. \n",
    "\n",
    "anyways it might be time to clean this project up we've gone far. Just even doing a demo notebook (instead of this dev notebook) with movies of the ant movements vs. the sugar movements vs. the pher plots vs. the ants been here plots might be enough. (probably can layer ants been here vs. ant movements).\n"
   ]
  },
  {
   "cell_type": "markdown",
   "id": "0c6efb52-1cf7-4267-894a-c6872b5311ad",
   "metadata": {},
   "source": [
    "\n",
    "### another fun plot\n",
    "\n",
    "kde plot of ant density!"
   ]
  },
  {
   "cell_type": "code",
   "execution_count": 655,
   "id": "c16097be-e414-43fd-96cf-15893225d45e",
   "metadata": {},
   "outputs": [],
   "source": [
    "import scipy"
   ]
  },
  {
   "cell_type": "code",
   "execution_count": 658,
   "id": "a0d4b630-7723-4ac6-b402-941c18a092d1",
   "metadata": {},
   "outputs": [
    {
     "data": {
      "text/plain": [
       "100.0"
      ]
     },
     "execution_count": 658,
     "metadata": {},
     "output_type": "execute_result"
    }
   ],
   "source": [
    "test_hive.ant_grid.sum()"
   ]
  },
  {
   "cell_type": "code",
   "execution_count": 659,
   "id": "200b1db4-cf1e-4251-ba84-fbf9b8bc4663",
   "metadata": {},
   "outputs": [
    {
     "ename": "LinAlgError",
     "evalue": "The data appears to lie in a lower-dimensional subspace of the space in which it is expressed. This has resulted in a singular data covariance matrix, which cannot be treated using the algorithms implemented in `gaussian_kde`. Consider performing principle component analysis / dimensionality reduction and using `gaussian_kde` with the transformed data.",
     "output_type": "error",
     "traceback": [
      "\u001b[0;31m---------------------------------------------------------------------------\u001b[0m",
      "\u001b[0;31mLinAlgError\u001b[0m                               Traceback (most recent call last)",
      "File \u001b[0;32m~/.pyenv/versions/3.9.5/envs/simulations/lib/python3.9/site-packages/scipy/stats/_kde.py:223\u001b[0m, in \u001b[0;36mgaussian_kde.__init__\u001b[0;34m(self, dataset, bw_method, weights)\u001b[0m\n\u001b[1;32m    222\u001b[0m \u001b[38;5;28;01mtry\u001b[39;00m:\n\u001b[0;32m--> 223\u001b[0m     \u001b[38;5;28;43mself\u001b[39;49m\u001b[38;5;241;43m.\u001b[39;49m\u001b[43mset_bandwidth\u001b[49m\u001b[43m(\u001b[49m\u001b[43mbw_method\u001b[49m\u001b[38;5;241;43m=\u001b[39;49m\u001b[43mbw_method\u001b[49m\u001b[43m)\u001b[49m\n\u001b[1;32m    224\u001b[0m \u001b[38;5;28;01mexcept\u001b[39;00m linalg\u001b[38;5;241m.\u001b[39mLinAlgError \u001b[38;5;28;01mas\u001b[39;00m e:\n",
      "File \u001b[0;32m~/.pyenv/versions/3.9.5/envs/simulations/lib/python3.9/site-packages/scipy/stats/_kde.py:571\u001b[0m, in \u001b[0;36mgaussian_kde.set_bandwidth\u001b[0;34m(self, bw_method)\u001b[0m\n\u001b[1;32m    569\u001b[0m     \u001b[38;5;28;01mraise\u001b[39;00m \u001b[38;5;167;01mValueError\u001b[39;00m(msg)\n\u001b[0;32m--> 571\u001b[0m \u001b[38;5;28;43mself\u001b[39;49m\u001b[38;5;241;43m.\u001b[39;49m\u001b[43m_compute_covariance\u001b[49m\u001b[43m(\u001b[49m\u001b[43m)\u001b[49m\n",
      "File \u001b[0;32m~/.pyenv/versions/3.9.5/envs/simulations/lib/python3.9/site-packages/scipy/stats/_kde.py:583\u001b[0m, in \u001b[0;36mgaussian_kde._compute_covariance\u001b[0;34m(self)\u001b[0m\n\u001b[1;32m    580\u001b[0m     \u001b[38;5;28mself\u001b[39m\u001b[38;5;241m.\u001b[39m_data_covariance \u001b[38;5;241m=\u001b[39m atleast_2d(cov(\u001b[38;5;28mself\u001b[39m\u001b[38;5;241m.\u001b[39mdataset, rowvar\u001b[38;5;241m=\u001b[39m\u001b[38;5;241m1\u001b[39m,\n\u001b[1;32m    581\u001b[0m                                        bias\u001b[38;5;241m=\u001b[39m\u001b[38;5;28;01mFalse\u001b[39;00m,\n\u001b[1;32m    582\u001b[0m                                        aweights\u001b[38;5;241m=\u001b[39m\u001b[38;5;28mself\u001b[39m\u001b[38;5;241m.\u001b[39mweights))\n\u001b[0;32m--> 583\u001b[0m     \u001b[38;5;28mself\u001b[39m\u001b[38;5;241m.\u001b[39m_data_cho_cov \u001b[38;5;241m=\u001b[39m \u001b[43mlinalg\u001b[49m\u001b[38;5;241;43m.\u001b[39;49m\u001b[43mcholesky\u001b[49m\u001b[43m(\u001b[49m\u001b[38;5;28;43mself\u001b[39;49m\u001b[38;5;241;43m.\u001b[39;49m\u001b[43m_data_covariance\u001b[49m\u001b[43m,\u001b[49m\n\u001b[1;32m    584\u001b[0m \u001b[43m                                         \u001b[49m\u001b[43mlower\u001b[49m\u001b[38;5;241;43m=\u001b[39;49m\u001b[38;5;28;43;01mTrue\u001b[39;49;00m\u001b[43m)\u001b[49m\n\u001b[1;32m    586\u001b[0m \u001b[38;5;28mself\u001b[39m\u001b[38;5;241m.\u001b[39mcovariance \u001b[38;5;241m=\u001b[39m \u001b[38;5;28mself\u001b[39m\u001b[38;5;241m.\u001b[39m_data_covariance \u001b[38;5;241m*\u001b[39m \u001b[38;5;28mself\u001b[39m\u001b[38;5;241m.\u001b[39mfactor\u001b[38;5;241m*\u001b[39m\u001b[38;5;241m*\u001b[39m\u001b[38;5;241m2\u001b[39m\n",
      "File \u001b[0;32m~/.pyenv/versions/3.9.5/envs/simulations/lib/python3.9/site-packages/scipy/linalg/_decomp_cholesky.py:89\u001b[0m, in \u001b[0;36mcholesky\u001b[0;34m(a, lower, overwrite_a, check_finite)\u001b[0m\n\u001b[1;32m     46\u001b[0m \u001b[38;5;250m\u001b[39m\u001b[38;5;124;03m\"\"\"\u001b[39;00m\n\u001b[1;32m     47\u001b[0m \u001b[38;5;124;03mCompute the Cholesky decomposition of a matrix.\u001b[39;00m\n\u001b[1;32m     48\u001b[0m \n\u001b[0;32m   (...)\u001b[0m\n\u001b[1;32m     87\u001b[0m \n\u001b[1;32m     88\u001b[0m \u001b[38;5;124;03m\"\"\"\u001b[39;00m\n\u001b[0;32m---> 89\u001b[0m c, lower \u001b[38;5;241m=\u001b[39m \u001b[43m_cholesky\u001b[49m\u001b[43m(\u001b[49m\u001b[43ma\u001b[49m\u001b[43m,\u001b[49m\u001b[43m \u001b[49m\u001b[43mlower\u001b[49m\u001b[38;5;241;43m=\u001b[39;49m\u001b[43mlower\u001b[49m\u001b[43m,\u001b[49m\u001b[43m \u001b[49m\u001b[43moverwrite_a\u001b[49m\u001b[38;5;241;43m=\u001b[39;49m\u001b[43moverwrite_a\u001b[49m\u001b[43m,\u001b[49m\u001b[43m \u001b[49m\u001b[43mclean\u001b[49m\u001b[38;5;241;43m=\u001b[39;49m\u001b[38;5;28;43;01mTrue\u001b[39;49;00m\u001b[43m,\u001b[49m\n\u001b[1;32m     90\u001b[0m \u001b[43m                     \u001b[49m\u001b[43mcheck_finite\u001b[49m\u001b[38;5;241;43m=\u001b[39;49m\u001b[43mcheck_finite\u001b[49m\u001b[43m)\u001b[49m\n\u001b[1;32m     91\u001b[0m \u001b[38;5;28;01mreturn\u001b[39;00m c\n",
      "File \u001b[0;32m~/.pyenv/versions/3.9.5/envs/simulations/lib/python3.9/site-packages/scipy/linalg/_decomp_cholesky.py:37\u001b[0m, in \u001b[0;36m_cholesky\u001b[0;34m(a, lower, overwrite_a, clean, check_finite)\u001b[0m\n\u001b[1;32m     36\u001b[0m \u001b[38;5;28;01mif\u001b[39;00m info \u001b[38;5;241m>\u001b[39m \u001b[38;5;241m0\u001b[39m:\n\u001b[0;32m---> 37\u001b[0m     \u001b[38;5;28;01mraise\u001b[39;00m LinAlgError(\u001b[38;5;124m\"\u001b[39m\u001b[38;5;132;01m%d\u001b[39;00m\u001b[38;5;124m-th leading minor of the array is not positive \u001b[39m\u001b[38;5;124m\"\u001b[39m\n\u001b[1;32m     38\u001b[0m                       \u001b[38;5;124m\"\u001b[39m\u001b[38;5;124mdefinite\u001b[39m\u001b[38;5;124m\"\u001b[39m \u001b[38;5;241m%\u001b[39m info)\n\u001b[1;32m     39\u001b[0m \u001b[38;5;28;01mif\u001b[39;00m info \u001b[38;5;241m<\u001b[39m \u001b[38;5;241m0\u001b[39m:\n",
      "\u001b[0;31mLinAlgError\u001b[0m: 1-th leading minor of the array is not positive definite",
      "\nThe above exception was the direct cause of the following exception:\n",
      "\u001b[0;31mLinAlgError\u001b[0m                               Traceback (most recent call last)",
      "Cell \u001b[0;32mIn[659], line 1\u001b[0m\n\u001b[0;32m----> 1\u001b[0m \u001b[43mscipy\u001b[49m\u001b[38;5;241;43m.\u001b[39;49m\u001b[43mstats\u001b[49m\u001b[38;5;241;43m.\u001b[39;49m\u001b[43mgaussian_kde\u001b[49m\u001b[43m(\u001b[49m\u001b[43mtest_hive\u001b[49m\u001b[38;5;241;43m.\u001b[39;49m\u001b[43mant_grid\u001b[49m\u001b[43m)\u001b[49m \u001b[38;5;66;03m# might have to set my own kde filter, probably shouldn't be too hard, but unlikely to be worth the work for a pretty picture\u001b[39;00m\n",
      "File \u001b[0;32m~/.pyenv/versions/3.9.5/envs/simulations/lib/python3.9/site-packages/scipy/stats/_kde.py:232\u001b[0m, in \u001b[0;36mgaussian_kde.__init__\u001b[0;34m(self, dataset, bw_method, weights)\u001b[0m\n\u001b[1;32m    224\u001b[0m \u001b[38;5;28;01mexcept\u001b[39;00m linalg\u001b[38;5;241m.\u001b[39mLinAlgError \u001b[38;5;28;01mas\u001b[39;00m e:\n\u001b[1;32m    225\u001b[0m     msg \u001b[38;5;241m=\u001b[39m (\u001b[38;5;124m\"\u001b[39m\u001b[38;5;124mThe data appears to lie in a lower-dimensional subspace \u001b[39m\u001b[38;5;124m\"\u001b[39m\n\u001b[1;32m    226\u001b[0m            \u001b[38;5;124m\"\u001b[39m\u001b[38;5;124mof the space in which it is expressed. This has resulted \u001b[39m\u001b[38;5;124m\"\u001b[39m\n\u001b[1;32m    227\u001b[0m            \u001b[38;5;124m\"\u001b[39m\u001b[38;5;124min a singular data covariance matrix, which cannot be \u001b[39m\u001b[38;5;124m\"\u001b[39m\n\u001b[0;32m   (...)\u001b[0m\n\u001b[1;32m    230\u001b[0m            \u001b[38;5;124m\"\u001b[39m\u001b[38;5;124manalysis / dimensionality reduction and using \u001b[39m\u001b[38;5;124m\"\u001b[39m\n\u001b[1;32m    231\u001b[0m            \u001b[38;5;124m\"\u001b[39m\u001b[38;5;124m`gaussian_kde` with the transformed data.\u001b[39m\u001b[38;5;124m\"\u001b[39m)\n\u001b[0;32m--> 232\u001b[0m     \u001b[38;5;28;01mraise\u001b[39;00m linalg\u001b[38;5;241m.\u001b[39mLinAlgError(msg) \u001b[38;5;28;01mfrom\u001b[39;00m \u001b[38;5;21;01me\u001b[39;00m\n",
      "\u001b[0;31mLinAlgError\u001b[0m: The data appears to lie in a lower-dimensional subspace of the space in which it is expressed. This has resulted in a singular data covariance matrix, which cannot be treated using the algorithms implemented in `gaussian_kde`. Consider performing principle component analysis / dimensionality reduction and using `gaussian_kde` with the transformed data."
     ]
    }
   ],
   "source": [
    "scipy.stats.gaussian_kde(test_hive.ant_grid) # might have to set my own kde filter, probably shouldn't be too hard, but unlikely to be worth the work for a pretty picture"
   ]
  },
  {
   "cell_type": "code",
   "execution_count": null,
   "id": "3b8191c9-1bfc-4918-bc39-5cad00fa7215",
   "metadata": {},
   "outputs": [],
   "source": []
  }
 ],
 "metadata": {
  "kernelspec": {
   "display_name": "Python 3 (ipykernel)",
   "language": "python",
   "name": "python3"
  },
  "language_info": {
   "codemirror_mode": {
    "name": "ipython",
    "version": 3
   },
   "file_extension": ".py",
   "mimetype": "text/x-python",
   "name": "python",
   "nbconvert_exporter": "python",
   "pygments_lexer": "ipython3",
   "version": "3.9.5"
  }
 },
 "nbformat": 4,
 "nbformat_minor": 5
}
