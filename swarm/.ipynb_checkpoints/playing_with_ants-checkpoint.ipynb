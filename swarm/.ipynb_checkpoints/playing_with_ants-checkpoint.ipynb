{
 "cells": [
  {
   "cell_type": "markdown",
   "id": "fa8449ae-2f32-48a1-9068-6b06320941a9",
   "metadata": {},
   "source": [
    "saw some cool ants, and I wanted to make something that looked like them :)\n",
    "\n",
    "here's what we'll do, each time an ant goes somewhere it leaves a scent. that scent has a time decay period. when an ant finds sugar, it'll pick it up. but we also want to drive variability right? also this is only useful based on the belief that the sugar clusters. which it should! to some degree. we want the ant to random walk over weighted probabilities. \n",
    "\n",
    "oh you know what? the ant needs an orientation. and it costs the ant a turn to rotate. i saw this observing the ants! how about have ants weight their direction to be forwards rather than backwards?\n",
    "\n",
    "i think the return behavior actually matters because it reinforces the algo. so, ant has an explore mode and a return mode?\n",
    "\n",
    "ok how about when an ant finds food it drops a second kind of pheromone, a \"local search\" pheromone that says hey i found food here, look around locally. it has the ant strongly pull away from the food square after it has just been on it. \n",
    "\n",
    "can ants stack? yes but only two per square. \n",
    "what happens when it hits sugar? it follows it back? \n",
    "\n",
    "maybe the ant has a desire not to backtrack? so it \n",
    "\n",
    "so, we'll build a class that generates the sugar field, and passes it to ant hive that initializes. We'll use gaussian random fields to populate the grid with a GRF and then draw binary sugar presence / absence from it. \n"
   ]
  },
  {
   "cell_type": "code",
   "execution_count": 41,
   "id": "24d10824-2677-4e6c-a9e0-e15b8afdef01",
   "metadata": {},
   "outputs": [],
   "source": [
    "import numpy as np\n",
    "from FyeldGenerator import generate_field\n",
    "import scipy.stats as st\n",
    "import matplotlib.pyplot as plt\n",
    "import json\n",
    "import copy\n",
    "import random\n",
    "from matplotlib.colors import LinearSegmentedColormap"
   ]
  },
  {
   "cell_type": "code",
   "execution_count": 2,
   "id": "583ca880-aea8-4269-ab0f-3b363cdcdcdb",
   "metadata": {},
   "outputs": [],
   "source": [
    "class SugarField:\n",
    "\n",
    "    def __init__(self, grid_size=(100,100), grf_shape_param= 7, grf_damper=1, grid_type='grf'):\n",
    "        \"\"\"\n",
    "\n",
    "        grid_size: 2D tuple defining size of grid life is playing on\n",
    "        \"\"\"\n",
    "        self.grf_shape_param = grf_shape_param\n",
    "        self.grf_damper = grf_damper\n",
    "        self.grid_size = grid_size\n",
    "        self.grid_l = grid_size[0] # up / down\n",
    "        self.grid_w = grid_size[1] \n",
    "        self.gen_sugar_field(grid_type=grid_type)\n",
    "\n",
    "\n",
    "    def gen_sugar_field(self, grid_type):\n",
    "        np.random.seed(42069)\n",
    "        if grid_type == 'uniform_rand':\n",
    "            p_ones = 0.4\n",
    "            self.grid = np.random.choice([0,1], self.grid_size, p=((1-p_ones),p_ones)) # seed random start \n",
    "        if grid_type == 'grf':\n",
    "            self.gen_corr_probability_field() # creates self.grid_init_prob_field\n",
    "            self.grid = np.random.binomial(n=1, p=self.grid_init_prob_field, size=self.grid_size)\n",
    "        # something to add: a situation where a gaussian random field sets the seed probability as a function of space!\n",
    "\n",
    "\n",
    "    def gen_corr_probability_field(self):\n",
    "        \"\"\"\n",
    "        uses random fields to generate a spatially correlated field of bernoulli probabilities, one probability per grid cell, \n",
    "        which we'll use to draw an initial grid of 1s and 0s for conway's game\n",
    "        \"\"\"\n",
    "        def Pkgen(n):\n",
    "            def Pk(k):\n",
    "                return np.power(k, -n)\n",
    "        \n",
    "            return Pk\n",
    "        \n",
    "        \n",
    "        # Draw samples from a normal distribution\n",
    "        def distrib(shape):\n",
    "            a = np.random.normal(loc=0, scale=1, size=shape)\n",
    "            b = np.random.normal(loc=0, scale=1, size=shape)\n",
    "            return a + 1j * b\n",
    "        \n",
    "        \n",
    "        shape = (self.grid_l, self.grid_w)\n",
    "        \n",
    "        field = generate_field(distrib, Pkgen(self.grf_shape_param), shape) # 7 just because I like the grouping effect\n",
    "        z_field = (field-np.mean(field))/np.std(field)\n",
    "        prob_field= st.norm.cdf(z_field) / self.grf_damper #grf dampener is because my probability field was too high; too much sugar! \n",
    "        self.grid_init_prob_field = prob_field\n",
    "\n",
    "    def plot_field(self):\n",
    "        plt.imshow(self.grid, cmap='binary', interpolation='nearest')\n",
    "        \n"
   ]
  },
  {
   "cell_type": "code",
   "execution_count": 3,
   "id": "54e38b08-a02d-4717-9505-5c48e7ef4e80",
   "metadata": {},
   "outputs": [
    {
     "data": {
      "image/png": "[encoded data removed]",
      "text/plain": [
       "<Figure size 640x480 with 1 Axes>"
      ]
     },
     "metadata": {},
     "output_type": "display_data"
    }
   ],
   "source": [
    "sf= SugarField(grf_shape_param=30, grf_damper=50)\n",
    "sf.plot_field()"
   ]
  },
  {
   "cell_type": "code",
   "execution_count": 156,
   "id": "b2cecdff-6fa9-4ccd-9fd9-1dd366ab65af",
   "metadata": {},
   "outputs": [
    {
     "data": {
      "image/png": "[encoded data removed]",
      "text/plain": [
       "<Figure size 640x480 with 1 Axes>"
      ]
     },
     "metadata": {},
     "output_type": "display_data"
    }
   ],
   "source": [
    "sf= SugarField(grf_shape_param=30, grf_damper=1)\n",
    "sf.plot_field()"
   ]
  },
  {
   "cell_type": "code",
   "execution_count": 5,
   "id": "4676763b-e7eb-420e-8f42-5816d4016c4a",
   "metadata": {},
   "outputs": [
    {
     "data": {
      "text/plain": [
       "array([1, 1, 1, 1, 0, 0, 0, 1, 1])"
      ]
     },
     "execution_count": 5,
     "metadata": {},
     "output_type": "execute_result"
    }
   ],
   "source": [
    "sf.grid[0,90:99] # observe: going \"west to east\" means increasing the second index"
   ]
  },
  {
   "cell_type": "code",
   "execution_count": 6,
   "id": "97fe8419-449a-44e6-a192-653cddd0dda2",
   "metadata": {},
   "outputs": [
    {
     "data": {
      "text/plain": [
       "array([0, 0, 0, 0, 1, 1, 0, 0, 0])"
      ]
     },
     "execution_count": 6,
     "metadata": {},
     "output_type": "execute_result"
    }
   ],
   "source": [
    "sf.grid[90:99,0] # likewise going \"north to south\" means increasing the first index"
   ]
  },
  {
   "cell_type": "code",
   "execution_count": 298,
   "id": "91f0cd7f-c8d6-4c40-ba14-36cb1fcd2dfd",
   "metadata": {},
   "outputs": [],
   "source": [
    "# going to build separate ant and hive objects\n",
    "# heh could even have the hive try to coordinate among multiple sugar fields in parallel and have it cost something to generate an ant at one field\n",
    "# let ants stack for now\n",
    "\n",
    "class AntMind:\n",
    "    \n",
    "    def __init__(self, ant_orientation):\n",
    "        \"\"\"\n",
    "\n",
    "        ant_orientation: where the ant is pointed. equivalent to the ant's previous move (ant only points where it moves). probabilities\n",
    "        are \n",
    "        \"\"\"\n",
    "        self.has_sugar = 0 # do we have it currently?\n",
    "        self.picked_up_sugar_this_turn = 0 # did we pick it up this turn?\n",
    "        #self.local_grid = local_grid\n",
    "        self.orientation = ant_orientation\n",
    "\n",
    "        self.moveset = []\n",
    "        #self.moveset.append(self.orientation) # where it came from!\n",
    "\n",
    "        #note: going \"west to east\" means increasing the second index, likewise going \"north to south\" means increasing the first index\n",
    "        self.flip_orientation_dict ={'[0, 0]':[2,2],'[0, 1]':[2,1],'[0, 2]':[2,0],'[1, 0]':[1,2], '[1, 2]':[1,0], '[2, 0]':[0,2], '[2, 2]':[0,0], '[2, 1]':[0,1]}\n",
    "\n",
    "        \n",
    "    def move_ant(self, local_grid):\n",
    "        \"\"\"\n",
    "        local_grid: pass the ant a local grid consisting of where it is and the grid squares around there, including any objects\n",
    "            in the local grid (objects such as pheromones or sugar). we'll also update the local grid and then pass it back out. \n",
    "            local grid is a dict of grids actually. one grid is the pheromone grid. since the grid is 3x3 numpy array, the ant\n",
    "            itself is located at indices [1,1]\n",
    "        \"\"\"\n",
    "        self.local_grid = local_grid\n",
    "        self.local_grid_in = copy.deepcopy(local_grid)\n",
    "        self.drop_pheromone()\n",
    "\n",
    "        if self.has_sugar:\n",
    "            # if the ant already has sugar, keep sending it home!\n",
    "            self.step_home()\n",
    "\n",
    "        elif self.local_grid['sugar'][1,1] == 1: # on sugar!\n",
    "            self.pick_up_sugar()\n",
    "\n",
    "\n",
    "        else:\n",
    "            self.step_forward()\n",
    "\n",
    "        # have the HiveMind object then pull the following: self.next_move, self.local_grid\n",
    "        # then HiveMind has to update the relative grid with the current local grid, and move the ant!\n",
    "\n",
    "        # TODO: note that right now neither these nor the local pheromone update matter; we are directly updating in WorldMind\n",
    "        # in the future it'd be nice to use these instead but you have to update the grids before moving the ant both\n",
    "        # in the ant object and the mind object; \n",
    "        self.pher_update = self.local_grid['pher'] - self.local_grid_in['pher']\n",
    "        self.sugar_update = self.local_grid['sugar'] - self.local_grid_in['sugar']\n",
    "        self.delta_grid = {'sugar':self.sugar_update, 'pher':self.pher_update}\n",
    "\n",
    "    def pick_up_sugar(self):\n",
    "        self.has_sugar = 1 # pick it up\n",
    "        self.local_grid['sugar'][1,1] = 0 # sugar no longer on the grid\n",
    "        self.step_home() # begin walking home, also this ensures we always have a self.next_move because we need it; the world object uses this to move!\n",
    "\n",
    "        self.picked_up_sugar_this_turn = 1 # note you picked up up this turn\n",
    "        # note that self.step_home() command needs to shut picked up sugar this turn off but then we turn it back on\n",
    "\n",
    "    def step_forward(self):\n",
    "        \n",
    "        self.gen_weights() # generate the weights for moving forward\n",
    "        self.get_next_move()\n",
    "        self.orientation = self.next_move # going to return the next move as well as updated grid to the grid coordinator; ant updates orientation before moving\n",
    "        self.moveset.append(self.orientation) # only append last move to moveset when moving forward\n",
    "\n",
    "\n",
    "    def gen_weights(self):\n",
    "        \"\"\"\n",
    "        we generate a set of weights that add to 1, assigned to each element of the grid (zeroed out for the center element)\n",
    "        from these weights we'll draw a new direction to move in\n",
    "        we set a greater weight to the direction we're pointed in\n",
    "        \"\"\"\n",
    "        \n",
    "        \n",
    "        weights = np.zeros([3,3])\n",
    "        weights[self.orientation[0],self.orientation[1]] += 1 # add 1 to currently pointed direction\n",
    "\n",
    "        # cool little algo to get the indices of the two \"neighboring\" directions to our currently pointed direction\n",
    "        # e.g. if we were pointed south we'd want southwest and southeast\n",
    "        # basically we joystick up, down, left, and right, and throw it out if we hit the center or go off the 3x3\n",
    "        potential_neighbors = [[self.orientation[0]+1,self.orientation[1]],[self.orientation[0]-1,self.orientation[1]],[self.orientation[0],self.orientation[1]+1],[self.orientation[0],self.orientation[1]-1]]\n",
    "        neighbors = [el for el in potential_neighbors if (el!=[1,1] and el[0]>= 0 and el[0]<=2 and el[1]>=0 and el[1]<=2)] \n",
    "\n",
    "        weights[neighbors[0][0],neighbors[0][1]]+= 0.5 \n",
    "        weights[neighbors[1][0],neighbors[1][1]]+= 0.5 \n",
    "\n",
    "        weights = weights + self.local_grid['pher'] # add pheromone values directly to weights; note they're in same units!\n",
    "\n",
    "        weights[1,1] = 0 # no need to regard weight on current location\n",
    "\n",
    "        # drop weight to 0 for any wall locations\n",
    "\n",
    "        weights = np.multiply(weights, 1-self.local_grid['wall'])\n",
    "\n",
    "        # don't go back the way we came\n",
    "        last_position = self.flip_orientation(self.orientation) # get the coords for the direction we came back from\n",
    "        weights[last_position[0], last_position[1]] = 0 # set the probabilities of moving to those coords to 0\n",
    "\n",
    "        # note: we hit an edge case where things get stuck (all weights are 0). if this is ever the case, go back!\n",
    "        if np.sum(weights) == 0:\n",
    "            weights[last_position[0], last_position[1]] = 1 # set the probabilities of moving to those coords to 0\n",
    "\n",
    "        self.weights = weights / np.sum(weights) # normalize weights\n",
    "\n",
    "    def get_next_move(self):\n",
    "\n",
    "        flat_weights = self.weights.flatten() # flatten the weights\n",
    "        selected_flat_idx = np.random.choice(len(flat_weights), p=flat_weights) # select, based on weights which are probabilities, a direction\n",
    "        selected_idx = np.unravel_index(selected_flat_idx, np.shape(self.weights)) # put that direction back into our 3x3 coords\n",
    "        self.next_move = list(selected_idx)\n",
    "        \n",
    "\n",
    "    def step_home(self):\n",
    "        \"\"\"for now we'll just have the ant retrace its steps exactly to get home!\"\"\"\n",
    "        self.picked_up_sugar_this_turn = 0 # sub optimal engineering means you need to make sure this switch gets off each time he steps home\n",
    "        last_move = self.moveset.pop()\n",
    "        self.next_move = self.flip_orientation(last_move) # reverse\n",
    "        self.orientation = self.next_move\n",
    "        \n",
    "        \n",
    "    \n",
    "    \n",
    "    def flip_orientation(self, orientation):\n",
    "        \n",
    "        # self.flip_orientation_dict ={'[0,0]':[2,2],'[0,1]':[2,1],'[0,2]':[2,0],'[1,0]':[1,2], '[1,2]':[1,0], '[2,0]':[0,2], '[2,2]':[0,0]}\n",
    "        # update dict turns whatever cardinal direction we're pointing in and returns the flip\n",
    "        # imagine a 3x3 grid standing for the compass, so north is at [0,1] and south is at [2,1]; so if we input N we return S\n",
    "        # just needed to define it once so moved it to init, left it here for clarity\n",
    "        \n",
    "        orientation = self.flip_orientation_dict[str(orientation)] \n",
    "        return orientation\n",
    "\n",
    "    def drop_pheromone(self):\n",
    "        self.local_grid['pher'][1,1] += 1 #local_grid is a dict\n",
    "\n",
    "\n",
    "    \n",
    "        \n",
    "        "
   ]
  },
  {
   "cell_type": "code",
   "execution_count": 299,
   "id": "2a9823ad-1624-4531-aaef-0ae70d89aeed",
   "metadata": {},
   "outputs": [],
   "source": [
    "\"\"\"\n",
    "test our ant class; pass it a dummy grid and let it make a move, and see if it updates local grid, stores the move, and updates orientation\n",
    "\"\"\"\n",
    "\n",
    "test_pher = np.zeros([3,3])\n",
    "test_pher[0,1] = 1\n",
    "test_pher[2,2]=0.5\n",
    "test_wall = np.zeros([3,3])\n",
    "test_wall[0,1] = 1\n",
    "test_sugar = np.zeros([3,3])\n",
    "test_grid = {'pher':test_pher, 'sugar':test_sugar, 'wall':test_wall}\n",
    "test_ant = AntMind([0,1])\n",
    "test_ant.move_ant(test_grid) "
   ]
  },
  {
   "cell_type": "code",
   "execution_count": 300,
   "id": "649e700c-b87a-4d49-8a5b-04d1cdf83526",
   "metadata": {},
   "outputs": [
    {
     "data": {
      "text/plain": [
       "array([[0. , 1. , 0. ],\n",
       "       [0. , 1. , 0. ],\n",
       "       [0. , 0. , 0.5]])"
      ]
     },
     "execution_count": 300,
     "metadata": {},
     "output_type": "execute_result"
    }
   ],
   "source": [
    "test_ant.local_grid['pher']"
   ]
  },
  {
   "cell_type": "code",
   "execution_count": 301,
   "id": "ac6682e1-144d-46d8-92cb-13e327696065",
   "metadata": {},
   "outputs": [
    {
     "data": {
      "text/plain": [
       "array([[0., 1., 0.],\n",
       "       [0., 0., 0.],\n",
       "       [0., 0., 0.]])"
      ]
     },
     "execution_count": 301,
     "metadata": {},
     "output_type": "execute_result"
    }
   ],
   "source": [
    "test_ant.local_grid['wall']"
   ]
  },
  {
   "cell_type": "code",
   "execution_count": 302,
   "id": "bdabf5f6-f4e0-4c49-a08e-bd748b21aa1a",
   "metadata": {},
   "outputs": [
    {
     "data": {
      "text/plain": [
       "array([[0., 0., 0.],\n",
       "       [0., 0., 0.],\n",
       "       [0., 0., 0.]])"
      ]
     },
     "execution_count": 302,
     "metadata": {},
     "output_type": "execute_result"
    }
   ],
   "source": [
    "test_ant.local_grid['sugar']"
   ]
  },
  {
   "cell_type": "code",
   "execution_count": 303,
   "id": "706fd494-fe6e-4874-8caa-1a684c3c5fb7",
   "metadata": {},
   "outputs": [
    {
     "data": {
      "text/plain": [
       "[[0, 0]]"
      ]
     },
     "execution_count": 303,
     "metadata": {},
     "output_type": "execute_result"
    }
   ],
   "source": [
    "test_ant.moveset"
   ]
  },
  {
   "cell_type": "code",
   "execution_count": 304,
   "id": "549313ca-dc87-4abd-8f68-3a5512882390",
   "metadata": {},
   "outputs": [
    {
     "data": {
      "text/plain": [
       "[0, 0]"
      ]
     },
     "execution_count": 304,
     "metadata": {},
     "output_type": "execute_result"
    }
   ],
   "source": [
    "test_ant.orientation"
   ]
  },
  {
   "cell_type": "code",
   "execution_count": 305,
   "id": "f66e90a6-a6c8-482d-aaf9-8b142746170b",
   "metadata": {},
   "outputs": [
    {
     "data": {
      "text/plain": [
       "array([[0.33333333, 0.        , 0.33333333],\n",
       "       [0.        , 0.        , 0.        ],\n",
       "       [0.        , 0.        , 0.33333333]])"
      ]
     },
     "execution_count": 305,
     "metadata": {},
     "output_type": "execute_result"
    }
   ],
   "source": [
    "test_ant.weights"
   ]
  },
  {
   "cell_type": "code",
   "execution_count": 306,
   "id": "e8485127-87c5-4db7-859b-a89c835a4123",
   "metadata": {},
   "outputs": [],
   "source": [
    "class WorldMind:\n",
    "    \"\"\"\n",
    "    The WorldMind object takes in the sugar field, initializes ants, and handles interactions between the ant (and it's local knowledge)\n",
    "    and the global world\n",
    "    \"\"\"\n",
    "\n",
    "    def __init__(self, sugar_field, home_coords = [0,0], spawn_param=0.5, max_ants = 100):\n",
    "\n",
    "        \"\"\"\n",
    "        sugar_field: object of SugarField class\n",
    "        init_ants: list of dicts, each dict has keys global_coord and orientation to initialize a single AntMind object with\n",
    "        \"\"\"\n",
    "        np.random.seed(9890)\n",
    "        random.seed(4829)\n",
    "        self.turn_number = 0\n",
    "        self.sf = copy.deepcopy(sugar_field) # 1s and 0s\n",
    "        self.global_grid = {} # convert sugar field to absolute grid, which is a dict with two arrays and keys sugar and pher\n",
    "        self.global_grid['sugar'] = self.sf # set sugar field\n",
    "        self.global_grid['pher'] = np.zeros(np.shape(self.sf)) # initialize empty pheromone field\n",
    "\n",
    "        # introducing \"wall field\"; basically we make the boundary impermeable; since our local grid is 3x3 we just set the borders to wall\n",
    "        # grid \n",
    "        grid_size_0 = np.shape(self.sf)[0]\n",
    "        grid_size_1 = np.shape(self.sf)[1]\n",
    "\n",
    "        self.global_grid['wall'] = np.zeros(np.shape(self.sf)) # initialize empty wall field field\n",
    "        self.global_grid['wall'][0:grid_size_0, 0] = 1\n",
    "        self.global_grid['wall'][0:grid_size_0, grid_size_1-1] = 1\n",
    "        self.global_grid['wall'][0, 0:grid_size_1] = 1\n",
    "        self.global_grid['wall'][grid_size_0-1, 0:grid_size_1] = 1\n",
    "\n",
    "\n",
    "        \n",
    "        self.home_coords = home_coords\n",
    "\n",
    "        self.sugar_score = 0 # colony's total amount of accrued sugar\n",
    "\n",
    "        \n",
    "        self.ants = [] # list of active ants\n",
    "\n",
    "        # params used to manage ant spawn rate (rate at which ants emerge from the colony)\n",
    "        #self.spawn_default_rate = spawn_default_rate \n",
    "        self.spawn_param = spawn_param # poisson parameter for new ant spawn rate\n",
    "        self.max_ants = max_ants # maximum number of ants in the game\n",
    "        #self.spawn_ants(init_ants_dict)\n",
    "        #self.spawn_ants_old(init_ants) # what do the ants need? each ant needs an initial coordinate and an initialized mind\n",
    "\n",
    "    def spawn_ants(self):\n",
    "        \"\"\"\n",
    "        here's how ant spawning will work! we'll randomly spawn based on a poisson process. For now we spawn ants until we hit a max.\n",
    "        Later it would be cool to have the spawn rate vary by turn, depending on how much sugar is being collected now.\n",
    "        Could do this by having a rate that spikes when sugar score goes up and then decays back to some baseline rate (by making\n",
    "        the rate a max of some min rate and the decaying rate). But I think for this mechanic to make sense we need to make\n",
    "        sure ants can disappear as well as spawn. Maybe when an ant returns home it could have a don't come back out probability.\n",
    "        \"\"\"\n",
    "        num_ants = len(self.ants)\n",
    "        if num_ants < self.max_ants:\n",
    "            num_new_ants = np.random.poisson(self.spawn_param)\n",
    "            num_new_ants = np.min((num_new_ants, self.max_ants - num_ants)) # ensures we don't make more ants than the max possible\n",
    "        \n",
    "            for i in range(num_new_ants):\n",
    "                ant_coord = self.home_coords\n",
    "                ant_orientation = random.choice([[0,0],[0,1],[0,2],[1,0],[1,2],[2,0],[2,1],[2,2]]) # randomly select a valid orientation\n",
    "                ant_mind = AntMind(ant_orientation)\n",
    "                #ant = {'global_coord':ant_coord, 'mind':ant_mind, 'diagnostic':[ant_coord, [], []]}\n",
    "                ant = {'global_coord':ant_coord, 'mind':ant_mind}\n",
    "\n",
    "                self.ants.append(ant)\n",
    "\n",
    "        \n",
    "\n",
    "    \n",
    "    def spawn_ants_old(self, init_ants):\n",
    "        self.ants = []\n",
    "        for init_ant in init_ants:\n",
    "            ant_coord = init_ant['global_coord']\n",
    "            ant_mind = AntMind(init_ant['orientation'])\n",
    "            ant = {'global_coord':ant_coord, 'mind':ant_mind}\n",
    "            self.ants.append(ant)\n",
    "            \n",
    "            \n",
    "    \n",
    "    def next_turn(self):\n",
    "        self.turn_number += 1\n",
    "        self.decay_pheromones()\n",
    "        self.spawn_ants()\n",
    "        self.move_ants()\n",
    "        \n",
    "\n",
    "    def decay_pheromones(self):\n",
    "        self.half_life = 50\n",
    "        decay_rate = np.log(2) / self.half_life\n",
    "        self.global_grid['pher'] = self.global_grid['pher']*np.exp(-1.0*decay_rate)\n",
    "\n",
    "    def move_ants(self):\n",
    "\n",
    "        for ant in self.ants:\n",
    "            self.update_ant_and_grid(ant) \n",
    "    \n",
    "\n",
    "    def update_ant_and_grid(self, ant):\n",
    "        \"\"\"\n",
    "        each ant's state includes the ant object as well as its coordinates\n",
    "        to run the loop on the ant we need to use its coordinates to query the global grid (sugar_field)\n",
    "        \"\"\"\n",
    "        ant_mind = ant['mind']\n",
    "        ant_coord = ant['global_coord']\n",
    "\n",
    "        # if ant has sugar and has returned home, let it drop sugar. need to do this before moving b/c moveset will be empty\n",
    "        self.update_sugar(ant)\n",
    "\n",
    "\n",
    "        ant_local_grid = self.get_local_grid_from_coord(ant_coord)\n",
    "\n",
    "\n",
    "        self.update_global_grid_due_to_ant(ant) # drop pheromone and possibly pick up sugar irl using old coords\n",
    "        ant_mind.move_ant(ant_local_grid) # tells you where the ant is moving and whether it got sugar\n",
    "        self.update_ant_location(ant, ant_mind.next_move) # update ant's coordinates irl\n",
    "\n",
    "\n",
    "        \n",
    "        # TODO: what order do we update the global grid in? OR how do we make updates additive? \n",
    "        \n",
    "        \n",
    "        # idea is to set self.new_grid = self.global_grid return the \"delta grid\" for each ant, add them all to self.new_grid, THEN set self.global_grid = self.new_grid\n",
    "        # ok this almost will work, but what if multiple ants pick up the sugar? that doesn't work. so we want the sugar to update directly\n",
    "        # to the global grid, so if one ant picks it up another cannot. but the pheromones we want to update once per turn, so that \n",
    "        # one ant's pheromone update earlier in the loop doesn't affect the next ant's update later in the loop\n",
    "\n",
    "        #TODO: I'm doing this wrong. pheromone decay should happen in the world, not for each ant. and the world should simply\n",
    "        # note an added pheromone point for the ant and possibly a sugar pickup\n",
    "\n",
    "        \n",
    "        return\n",
    "\n",
    "    def update_sugar(self, ant):\n",
    "        if (ant['mind'].has_sugar == 1) and (ant['global_coord']==self.home_coords):\n",
    "            ant['mind'].has_sugar = 0\n",
    "            self.sugar_score += 1\n",
    "        return\n",
    "        \n",
    "    def get_local_grid_from_coord(self, coord):\n",
    "        \"\"\"takes in a coordinate for the global grid and returns the 3x3 local grid that the ant needs\"\"\"\n",
    "\n",
    "        i = coord[0] \n",
    "        j = coord[1]\n",
    "        ant_grid = {}\n",
    "        ant_grid['pher'] = self.global_grid['pher'][i-1:i+2, j-1:j+2]\n",
    "        ant_grid['sugar'] = self.global_grid['sugar'][i-1:i+2, j-1:j+2]\n",
    "        ant_grid['wall'] = self.global_grid['wall'][i-1:i+2, j-1:j+2]\n",
    "        return ant_grid\n",
    "\n",
    "    def update_global_grid_due_to_ant(self, ant):\n",
    "\n",
    "        # TODO: use the ant's own pher_update and sugar_update mechanisms to update\n",
    "        # however right now this is easier because the ruleset for adding sugar and phers is simple and easy to append directly\n",
    "        self.global_grid['pher'][ant['global_coord'][0],ant['global_coord'][1]] += 1 # add pheromones\n",
    "        if ant['mind'].picked_up_sugar_this_turn:\n",
    "            self.global_grid['sugar'][ant['global_coord'][0], ant['global_coord'][1]] = 0 # set sugar to 0\n",
    "        \n",
    "    def update_ant_location(self, ant, next_move):\n",
    "        \"\"\"\n",
    "        using the next_move value which is like a cardinal direction e.g. [0,0] for northwest, update the ant's location. handle edge cases\n",
    "        \"\"\"\n",
    "        additive_move = [el - 1 for el in next_move] # sets it so NW move is -1,-1 instead of 0,0; now we can just add it \n",
    "        ant['global_coord'] = [sum(x) for x in zip(ant['global_coord'], additive_move)] # does pairwise addition for elements of lists\n",
    "        #ant['diagnostic'].append([ant['global_coord'], copy.deepcopy(ant['mind'].moveset), ant['mind'].next_move])\n",
    "\n",
    "        "
   ]
  },
  {
   "cell_type": "code",
   "execution_count": 307,
   "id": "58676763-f5fe-40d0-bc7e-e13909e0b1dd",
   "metadata": {},
   "outputs": [],
   "source": [
    "## TODOs: add visualizers! I think this is working now so I want "
   ]
  },
  {
   "cell_type": "code",
   "execution_count": 308,
   "id": "d29ce14a-d062-4614-a919-d9355f348f9a",
   "metadata": {},
   "outputs": [
    {
     "data": {
      "text/plain": [
       "<matplotlib.image.AxesImage at 0x14c934bb0>"
      ]
     },
     "execution_count": 308,
     "metadata": {},
     "output_type": "execute_result"
    },
    {
     "data": {
      "image/png": "[encoded data removed]",
      "text/plain": [
       "<Figure size 640x480 with 1 Axes>"
      ]
     },
     "metadata": {},
     "output_type": "display_data"
    }
   ],
   "source": [
    "plt.imshow(sf.grid)"
   ]
  },
  {
   "cell_type": "code",
   "execution_count": null,
   "id": "81ca1263-833e-47a1-b124-f7c6ff3faab0",
   "metadata": {},
   "outputs": [],
   "source": []
  },
  {
   "cell_type": "code",
   "execution_count": 313,
   "id": "09515aeb-3ae0-4010-8263-992a6f8b6ac6",
   "metadata": {},
   "outputs": [
    {
     "data": {
      "text/plain": [
       "<matplotlib.image.AxesImage at 0x14ca50190>"
      ]
     },
     "execution_count": 313,
     "metadata": {},
     "output_type": "execute_result"
    },
    {
     "data": {
      "image/png": "[encoded data removed]",
      "text/plain": [
       "<Figure size 640x480 with 1 Axes>"
      ]
     },
     "metadata": {},
     "output_type": "display_data"
    }
   ],
   "source": [
    "plt.imshow(test_hive.global_grid['pher'])"
   ]
  },
  {
   "cell_type": "code",
   "execution_count": 314,
   "id": "9452576d-dada-4490-8b33-bdb03d9ea743",
   "metadata": {},
   "outputs": [
    {
     "data": {
      "text/plain": [
       "<matplotlib.image.AxesImage at 0x14cab82e0>"
      ]
     },
     "execution_count": 314,
     "metadata": {},
     "output_type": "execute_result"
    },
    {
     "data": {
      "image/png": "[encoded data removed]",
      "text/plain": [
       "<Figure size 640x480 with 1 Axes>"
      ]
     },
     "metadata": {},
     "output_type": "display_data"
    }
   ],
   "source": [
    "plt.imshow(test_hive.global_grid['pher']>0)"
   ]
  },
  {
   "cell_type": "code",
   "execution_count": 261,
   "id": "9aab18aa-b63b-41db-b6be-ab107a3825e9",
   "metadata": {},
   "outputs": [],
   "source": [
    "def plot_hive(ants, grid):\n",
    "    sugar_color = 'white'\n",
    "    things_color = 'black'\n",
    "    score_cmap = LinearSegmentedColormap.from_list('red_shades', ['white', 'darkred'])\n",
    "\n",
    "    fig, ax = plt.subplots(figsize=(8, 8))\n",
    "\n",
    "    ax.imshow(grid['sugar'], cmap='binary', vmin=0, vmax=1, alpha=0.8)\n",
    "    #ax.imshow(grid['pher'], cmap='magma', vmin=0, vmax=1, alpha=0.2)\n",
    "    score_image = ax.imshow(grid['pher'], cmap='magma', vmin=grid['pher'].min(), vmax=grid['pher'].max(), alpha=0.3)\n",
    "    cbar = plt.colorbar(score_image, ax=ax, orientation='vertical')\n",
    "    cbar.set_label('pher')\n",
    "    plt.show()"
   ]
  },
  {
   "cell_type": "code",
   "execution_count": 262,
   "id": "b75a208d-d2b2-4ab5-8759-6f06fb5be6e5",
   "metadata": {},
   "outputs": [],
   "source": [
    "for i in range(100):\n",
    "    test_hive.next_turn()"
   ]
  },
  {
   "cell_type": "code",
   "execution_count": 263,
   "id": "4119d674-5003-4f1f-af49-450fd42174bf",
   "metadata": {},
   "outputs": [
    {
     "data": {
      "text/plain": [
       "4880"
      ]
     },
     "execution_count": 263,
     "metadata": {},
     "output_type": "execute_result"
    }
   ],
   "source": [
    "test_hive.global_grid['sugar'].sum()"
   ]
  },
  {
   "cell_type": "code",
   "execution_count": 264,
   "id": "8ff4bf7e-47b4-4c26-b988-640b8c9e40f5",
   "metadata": {},
   "outputs": [
    {
     "data": {
      "text/plain": [
       "<__main__.WorldMind at 0x14c498460>"
      ]
     },
     "execution_count": 264,
     "metadata": {},
     "output_type": "execute_result"
    }
   ],
   "source": [
    "test_hive"
   ]
  },
  {
   "cell_type": "code",
   "execution_count": 265,
   "id": "56d11732-235f-460e-adcf-a2bce08dc83c",
   "metadata": {},
   "outputs": [
    {
     "data": {
      "text/plain": [
       "4949"
      ]
     },
     "execution_count": 265,
     "metadata": {},
     "output_type": "execute_result"
    }
   ],
   "source": [
    "sf.grid.sum()"
   ]
  },
  {
   "cell_type": "code",
   "execution_count": 266,
   "id": "93108dca-adfe-4434-9b24-65eafde87f7e",
   "metadata": {},
   "outputs": [
    {
     "data": {
      "image/png": "[encoded data removed]",
      "text/plain": [
       "<Figure size 800x800 with 2 Axes>"
      ]
     },
     "metadata": {},
     "output_type": "display_data"
    }
   ],
   "source": [
    "plot_hive(test_hive.ants, test_hive.global_grid)"
   ]
  },
  {
   "cell_type": "code",
   "execution_count": 267,
   "id": "069975de-90cb-419b-b908-5f5518448e3c",
   "metadata": {},
   "outputs": [
    {
     "data": {
      "text/plain": [
       "{'sugar': array([[0, 0, 0, ..., 1, 1, 0],\n",
       "        [0, 0, 0, ..., 1, 0, 1],\n",
       "        [1, 0, 0, ..., 1, 1, 1],\n",
       "        ...,\n",
       "        [0, 0, 0, ..., 1, 0, 0],\n",
       "        [0, 1, 0, ..., 0, 0, 1],\n",
       "        [0, 1, 1, ..., 1, 1, 0]]),\n",
       " 'pher': array([[0., 0., 0., ..., 0., 0., 0.],\n",
       "        [0., 0., 0., ..., 0., 0., 0.],\n",
       "        [0., 0., 0., ..., 0., 0., 0.],\n",
       "        ...,\n",
       "        [0., 0., 0., ..., 0., 0., 0.],\n",
       "        [0., 0., 0., ..., 0., 0., 0.],\n",
       "        [0., 0., 0., ..., 0., 0., 0.]]),\n",
       " 'wall': array([[1., 1., 1., ..., 1., 1., 1.],\n",
       "        [1., 0., 0., ..., 0., 0., 1.],\n",
       "        [1., 0., 0., ..., 0., 0., 1.],\n",
       "        ...,\n",
       "        [1., 0., 0., ..., 0., 0., 1.],\n",
       "        [1., 0., 0., ..., 0., 0., 1.],\n",
       "        [1., 1., 1., ..., 1., 1., 1.]])}"
      ]
     },
     "execution_count": 267,
     "metadata": {},
     "output_type": "execute_result"
    }
   ],
   "source": [
    "test_hive.global_grid"
   ]
  },
  {
   "cell_type": "code",
   "execution_count": 310,
   "id": "489a6c4f-a54a-4200-92ec-caea3daf7d99",
   "metadata": {},
   "outputs": [],
   "source": [
    "\"\"\"\n",
    "test the world mind\n",
    "\"\"\"\n",
    "\n",
    "test_hive = WorldMind(sf.grid, home_coords =[40,40], max_ants=1)"
   ]
  },
  {
   "cell_type": "code",
   "execution_count": 311,
   "id": "3d2d9a44-d2fa-4c2b-96ff-23c5084605cb",
   "metadata": {},
   "outputs": [],
   "source": [
    "while not [ant for ant in test_hive.ants if ant['mind'].picked_up_sugar_this_turn]:\n",
    "    test_hive.next_turn()"
   ]
  },
  {
   "cell_type": "code",
   "execution_count": 312,
   "id": "93c2af04-9a3b-4fcf-9294-055c77efa87c",
   "metadata": {},
   "outputs": [
    {
     "data": {
      "text/plain": [
       "8"
      ]
     },
     "execution_count": 312,
     "metadata": {},
     "output_type": "execute_result"
    }
   ],
   "source": [
    "test_hive.turn_number"
   ]
  },
  {
   "cell_type": "code",
   "execution_count": 278,
   "id": "52bb06bd-a2d2-402c-ad48-7d45f0686f0f",
   "metadata": {},
   "outputs": [
    {
     "data": {
      "text/plain": [
       "[]"
      ]
     },
     "execution_count": 278,
     "metadata": {},
     "output_type": "execute_result"
    }
   ],
   "source": [
    "[ant for ant in test_hive.ants if ant['mind'].picked_up_sugar_this_turn]"
   ]
  },
  {
   "cell_type": "code",
   "execution_count": 279,
   "id": "afb820c0-f293-46fa-898c-c6c35406a6dc",
   "metadata": {},
   "outputs": [],
   "source": [
    "myant = test_hive.ants[0]['mind']"
   ]
  },
  {
   "cell_type": "code",
   "execution_count": 280,
   "id": "bd65da8c-3636-483b-85b1-87c0aa58a0c8",
   "metadata": {},
   "outputs": [
    {
     "data": {
      "text/plain": [
       "[36, 38]"
      ]
     },
     "execution_count": 280,
     "metadata": {},
     "output_type": "execute_result"
    }
   ],
   "source": [
    " test_hive.ants[0]['global_coord']"
   ]
  },
  {
   "cell_type": "code",
   "execution_count": 297,
   "id": "0207e60f-aeac-4e77-9434-08596d0a25c5",
   "metadata": {},
   "outputs": [
    {
     "data": {
      "text/plain": [
       "2.8515612301873365"
      ]
     },
     "execution_count": 297,
     "metadata": {},
     "output_type": "execute_result"
    }
   ],
   "source": [
    "test_hive.global_grid['pher'][ test_hive.ants[0]['global_coord'][0], test_hive.ants[0]['global_coord'][1]]"
   ]
  },
  {
   "cell_type": "code",
   "execution_count": 293,
   "id": "ad745df6-b35b-4817-a4e8-0b8763b97677",
   "metadata": {},
   "outputs": [
    {
     "ename": "SyntaxError",
     "evalue": "invalid syntax (2224399491.py, line 1)",
     "output_type": "error",
     "traceback": [
      "\u001b[0;36m  Cell \u001b[0;32mIn[293], line 1\u001b[0;36m\u001b[0m\n\u001b[0;31m    test_hive.global_grid['pher']test_hive.ants[0]['global_coord']\u001b[0m\n\u001b[0m                                 ^\u001b[0m\n\u001b[0;31mSyntaxError\u001b[0m\u001b[0;31m:\u001b[0m invalid syntax\n"
     ]
    }
   ],
   "source": [
    "test_hive.global_grid['pher']test_hive.ants[0]['global_coord']"
   ]
  },
  {
   "cell_type": "code",
   "execution_count": 288,
   "id": "d7d2fe41-541e-458f-8a4b-dc45414c2c30",
   "metadata": {},
   "outputs": [
    {
     "data": {
      "text/plain": [
       "array([[[1.89229711, 1.89229711, 1.89229711, 1.89229711, 1.89229711,\n",
       "         1.89229711, 1.89229711, 1.89229711, 1.89229711, 1.89229711,\n",
       "         1.89229711, 1.89229711, 1.89229711, 1.89229711, 1.89229711,\n",
       "         1.89229711, 1.89229711, 1.89229711, 1.89229711, 1.89229711,\n",
       "         1.89229711, 1.89229711, 1.89229711, 1.89229711, 1.89229711,\n",
       "         1.89229711, 1.89229711, 1.89229711, 1.89229711, 1.89229711,\n",
       "         1.89229711, 1.89229711, 1.89229711, 1.89229711, 1.89229711,\n",
       "         1.89229711, 1.89229711, 1.89229711, 2.85156123, 2.8253301 ,\n",
       "         1.89229711, 1.89229711, 1.89229711, 1.89229711, 1.89229711,\n",
       "         1.89229711, 1.89229711, 1.89229711, 1.89229711, 1.89229711,\n",
       "         1.89229711, 1.89229711, 1.89229711, 1.89229711, 1.89229711,\n",
       "         1.89229711, 1.89229711, 1.89229711, 1.89229711, 1.89229711,\n",
       "         1.89229711, 1.89229711, 1.89229711, 1.89229711, 1.89229711,\n",
       "         1.89229711, 1.89229711, 1.89229711, 1.89229711, 1.89229711,\n",
       "         1.89229711, 1.89229711, 1.89229711, 1.89229711, 1.89229711,\n",
       "         1.89229711, 1.89229711, 1.89229711, 1.89229711, 1.89229711,\n",
       "         1.89229711, 1.89229711, 1.89229711, 1.89229711, 1.89229711,\n",
       "         1.89229711, 1.89229711, 1.89229711, 1.89229711, 1.89229711,\n",
       "         1.89229711, 1.89229711, 1.89229711, 1.89229711, 1.89229711,\n",
       "         1.89229711, 1.89229711, 1.89229711, 1.89229711, 1.89229711],\n",
       "        [3.79907363, 3.79907363, 3.79907363, 3.79907363, 3.79907363,\n",
       "         3.79907363, 3.79907363, 3.79907363, 3.79907363, 3.79907363,\n",
       "         3.79907363, 3.79907363, 3.79907363, 3.79907363, 3.79907363,\n",
       "         3.79907363, 3.79907363, 3.79907363, 3.79907363, 3.79907363,\n",
       "         3.79907363, 3.79907363, 3.79907363, 3.79907363, 3.79907363,\n",
       "         3.79907363, 3.79907363, 3.79907363, 3.79907363, 3.79907363,\n",
       "         3.79907363, 3.79907363, 3.79907363, 3.79907363, 3.79907363,\n",
       "         3.79907363, 3.79907363, 3.79907363, 3.79907363, 3.79907363,\n",
       "         4.70659278, 3.79907363, 3.79907363, 3.79907363, 3.79907363,\n",
       "         3.79907363, 3.79907363, 3.79907363, 3.79907363, 3.79907363,\n",
       "         3.79907363, 3.79907363, 3.79907363, 3.79907363, 3.79907363,\n",
       "         3.79907363, 3.79907363, 3.79907363, 3.79907363, 3.79907363,\n",
       "         3.79907363, 3.79907363, 3.79907363, 3.79907363, 3.79907363,\n",
       "         3.79907363, 3.79907363, 3.79907363, 3.79907363, 3.79907363,\n",
       "         3.79907363, 3.79907363, 3.79907363, 3.79907363, 3.79907363,\n",
       "         3.79907363, 3.79907363, 3.79907363, 3.79907363, 3.79907363,\n",
       "         3.79907363, 3.79907363, 3.79907363, 3.79907363, 3.79907363,\n",
       "         3.79907363, 3.79907363, 3.79907363, 3.79907363, 3.79907363,\n",
       "         3.79907363, 3.79907363, 3.79907363, 3.79907363, 3.79907363,\n",
       "         3.79907363, 3.79907363, 3.79907363, 3.79907363, 3.79907363]]])"
      ]
     },
     "execution_count": 288,
     "metadata": {},
     "output_type": "execute_result"
    }
   ],
   "source": [
    "test_hive.global_grid['pher'][[test_hive.ants[0]['global_coord']]]"
   ]
  },
  {
   "cell_type": "code",
   "execution_count": 281,
   "id": "50718229-fdbf-4b5b-8848-c70d9dc17b0f",
   "metadata": {},
   "outputs": [
    {
     "data": {
      "text/plain": [
       "1"
      ]
     },
     "execution_count": 281,
     "metadata": {},
     "output_type": "execute_result"
    }
   ],
   "source": [
    "myant.has_sugar"
   ]
  },
  {
   "cell_type": "code",
   "execution_count": 282,
   "id": "69bb1ec4-f663-4a38-9889-dbfcbe2006bb",
   "metadata": {},
   "outputs": [
    {
     "data": {
      "text/plain": [
       "0"
      ]
     },
     "execution_count": 282,
     "metadata": {},
     "output_type": "execute_result"
    }
   ],
   "source": [
    "myant.picked_up_sugar_this_turn"
   ]
  },
  {
   "cell_type": "code",
   "execution_count": 276,
   "id": "c7806772-4c2b-4d3e-8951-cefec0f76ba7",
   "metadata": {},
   "outputs": [],
   "source": [
    "test_hive.next_turn()"
   ]
  },
  {
   "cell_type": "code",
   "execution_count": 212,
   "id": "5e3bcdf2-8ff7-4c1c-852d-a97fd080e602",
   "metadata": {},
   "outputs": [
    {
     "ename": "TypeError",
     "evalue": "'AntMind' object is not subscriptable",
     "output_type": "error",
     "traceback": [
      "\u001b[0;31m---------------------------------------------------------------------------\u001b[0m",
      "\u001b[0;31mTypeError\u001b[0m                                 Traceback (most recent call last)",
      "Cell \u001b[0;32mIn[212], line 1\u001b[0m\n\u001b[0;32m----> 1\u001b[0m \u001b[43mmyant\u001b[49m\u001b[43m[\u001b[49m\u001b[38;5;124;43m'\u001b[39;49m\u001b[38;5;124;43mglobal_coord\u001b[39;49m\u001b[38;5;124;43m'\u001b[39;49m\u001b[43m]\u001b[49m\n",
      "\u001b[0;31mTypeError\u001b[0m: 'AntMind' object is not subscriptable"
     ]
    }
   ],
   "source": [
    "myant['global_coord']"
   ]
  },
  {
   "cell_type": "code",
   "execution_count": 196,
   "id": "10e7b784-7055-4ff8-9daa-5f37e75360ab",
   "metadata": {},
   "outputs": [
    {
     "data": {
      "text/plain": [
       "[{'global_coord': [39, 40], 'mind': <__main__.AntMind at 0x14c1b73a0>}]"
      ]
     },
     "execution_count": 196,
     "metadata": {},
     "output_type": "execute_result"
    }
   ],
   "source": [
    "test_hive.ants"
   ]
  },
  {
   "cell_type": "code",
   "execution_count": null,
   "id": "97b80d5a-2080-4ae8-ac07-a00c90e4111a",
   "metadata": {},
   "outputs": [],
   "source": []
  },
  {
   "cell_type": "code",
   "execution_count": 149,
   "id": "220c8ff9-7c91-44c9-a6e6-be9b79ee2ce4",
   "metadata": {},
   "outputs": [
    {
     "data": {
      "text/plain": [
       "12.456370009777771"
      ]
     },
     "execution_count": 149,
     "metadata": {},
     "output_type": "execute_result"
    }
   ],
   "source": [
    "test_hive.global_grid['pher'].max()"
   ]
  },
  {
   "cell_type": "code",
   "execution_count": 190,
   "id": "4926cad6-7255-4eb9-a185-5bc844810e53",
   "metadata": {},
   "outputs": [
    {
     "data": {
      "text/plain": [
       "2"
      ]
     },
     "execution_count": 190,
     "metadata": {},
     "output_type": "execute_result"
    }
   ],
   "source": [
    "num_sugs = 0\n",
    "for ant in test_hive.ants:\n",
    "    num_sugs += ant['mind'].has_sugar\n",
    "num_sugs"
   ]
  },
  {
   "cell_type": "code",
   "execution_count": 175,
   "id": "c1695bc1-7c46-4509-a440-d13b583e7a56",
   "metadata": {},
   "outputs": [
    {
     "data": {
      "text/plain": [
       "7"
      ]
     },
     "execution_count": 175,
     "metadata": {},
     "output_type": "execute_result"
    }
   ],
   "source": [
    "test_hive.sugar_score"
   ]
  },
  {
   "cell_type": "code",
   "execution_count": 91,
   "id": "287114be-021d-4606-889c-8b40addd60dd",
   "metadata": {},
   "outputs": [
    {
     "ename": "IndexError",
     "evalue": "list index out of range",
     "output_type": "error",
     "traceback": [
      "\u001b[0;31m---------------------------------------------------------------------------\u001b[0m",
      "\u001b[0;31mIndexError\u001b[0m                                Traceback (most recent call last)",
      "Cell \u001b[0;32mIn[91], line 1\u001b[0m\n\u001b[0;32m----> 1\u001b[0m \u001b[43mtest_hive\u001b[49m\u001b[38;5;241;43m.\u001b[39;49m\u001b[43mants\u001b[49m\u001b[43m[\u001b[49m\u001b[38;5;241;43m1\u001b[39;49m\u001b[43m]\u001b[49m[\u001b[38;5;124m'\u001b[39m\u001b[38;5;124mmind\u001b[39m\u001b[38;5;124m'\u001b[39m]\u001b[38;5;241m.\u001b[39mmoveset \u001b[38;5;66;03m# looks like it's tracking the moveset!\u001b[39;00m\n",
      "\u001b[0;31mIndexError\u001b[0m: list index out of range"
     ]
    }
   ],
   "source": [
    "test_hive.ants[1]['mind'].moveset # looks like it's tracking the moveset!"
   ]
  },
  {
   "cell_type": "code",
   "execution_count": 22,
   "id": "d835f93d-351a-40e2-8d59-3e61a6178262",
   "metadata": {},
   "outputs": [
    {
     "data": {
      "text/plain": [
       "[{'global_coord': [52, 45], 'mind': <__main__.AntMind at 0x134c146d0>},\n",
       " {'global_coord': [25, 48], 'mind': <__main__.AntMind at 0x134c14d00>}]"
      ]
     },
     "execution_count": 22,
     "metadata": {},
     "output_type": "execute_result"
    }
   ],
   "source": [
    "test_hive.ants # we movin!"
   ]
  },
  {
   "cell_type": "code",
   "execution_count": 23,
   "id": "380f07f7-5ce3-4ebf-ab48-1377352a3e19",
   "metadata": {},
   "outputs": [
    {
     "data": {
      "text/plain": [
       "9.72841883591301"
      ]
     },
     "execution_count": 23,
     "metadata": {},
     "output_type": "execute_result"
    }
   ],
   "source": [
    "test_hive.global_grid['pher'].sum() # decays working!"
   ]
  },
  {
   "cell_type": "code",
   "execution_count": 24,
   "id": "5ca28785-2cde-4708-b5e5-3959584bae9b",
   "metadata": {},
   "outputs": [],
   "source": [
    "### TODO: handle edge of the world edge cases (easiest way is to make it water and just have the ants drown lol. is this why god made death)\n",
    "### TODO: add plotting utils so you can watch your ants!"
   ]
  },
  {
   "cell_type": "markdown",
   "id": "ffa0db23-3485-463f-8b86-7d19ac324cbb",
   "metadata": {},
   "source": [
    "\n",
    "## Dummy Code\n",
    "\n",
    "### experimenting with updating / copying in numpy\n",
    "\n",
    "from lots of pandas use I know copying vs deep copying can be a big issue. I want to make sure I'm getting it right when it comes to modifying dictionaries of objects of my making"
   ]
  },
  {
   "cell_type": "code",
   "execution_count": null,
   "id": "c15e096b-b1ac-46ff-a2be-2212f8ea7159",
   "metadata": {},
   "outputs": [],
   "source": []
  },
  {
   "cell_type": "code",
   "execution_count": null,
   "id": "e4d5765d-3e39-4e09-b70c-d3b57b65feae",
   "metadata": {},
   "outputs": [],
   "source": []
  },
  {
   "cell_type": "code",
   "execution_count": 256,
   "id": "95dd99fe-8dba-4729-b63f-358e0a4508fa",
   "metadata": {},
   "outputs": [
    {
     "data": {
      "text/plain": [
       "{'a': 1, 'b': 2}"
      ]
     },
     "execution_count": 256,
     "metadata": {},
     "output_type": "execute_result"
    }
   ],
   "source": [
    "a = {'a':1}\n",
    "b = a\n",
    "b['b'] = 2\n",
    "a\n",
    "\n",
    "# so yeah the dict is just one object it's not a deep copy"
   ]
  },
  {
   "cell_type": "code",
   "execution_count": 254,
   "id": "8f2727ea-1b0c-43b4-b2ae-509cae11ffaf",
   "metadata": {},
   "outputs": [],
   "source": [
    "class dummy_counter:\n",
    "\n",
    "    def __init__(self):\n",
    "        self.val = 1\n",
    "        \n",
    "    def update(self):\n",
    "        self.val += self.val"
   ]
  },
  {
   "cell_type": "code",
   "execution_count": 258,
   "id": "c5754a89-cb02-4cee-af3b-61538b0dc0a7",
   "metadata": {},
   "outputs": [
    {
     "data": {
      "text/plain": [
       "2"
      ]
     },
     "execution_count": 258,
     "metadata": {},
     "output_type": "execute_result"
    }
   ],
   "source": [
    "dc = dummy_counter()\n",
    "\n",
    "a = {'a':dc}\n",
    "x = a['a']\n",
    "x.update()\n",
    "a['a'].val\n",
    "\n",
    "#from the looks of this, the object in the dictionary also got updated in place, no need to manually assign an update"
   ]
  },
  {
   "cell_type": "code",
   "execution_count": 259,
   "id": "aba6ca51-bcba-4489-b0bf-730c1412e09c",
   "metadata": {},
   "outputs": [],
   "source": [
    "import copy"
   ]
  },
  {
   "cell_type": "code",
   "execution_count": 260,
   "id": "39ea72c6-f1ca-471c-bc58-b409786c60aa",
   "metadata": {},
   "outputs": [
    {
     "data": {
      "text/plain": [
       "{'a': 1}"
      ]
     },
     "execution_count": 260,
     "metadata": {},
     "output_type": "execute_result"
    }
   ],
   "source": [
    "#copy.deepcopy\n",
    "\n",
    "a = {'a':1}\n",
    "b = copy.deepcopy(a)\n",
    "b['b'] = 2\n",
    "a\n",
    "# deepcopy works"
   ]
  },
  {
   "cell_type": "code",
   "execution_count": 264,
   "id": "920d8237-941b-4e93-962d-53b472359c27",
   "metadata": {},
   "outputs": [
    {
     "name": "stdout",
     "output_type": "stream",
     "text": [
      "1\n",
      "2\n"
     ]
    }
   ],
   "source": [
    "# what about with objects?\n",
    "\n",
    "dc = dummy_counter()\n",
    "\n",
    "a = {'a':dc}\n",
    "b = copy.deepcopy(a)\n",
    "b['a'].update()\n",
    "print(a['a'].val)\n",
    "print(b['a'].val)\n",
    "\n",
    "# yup also works! the object itself gets deep copied, very nice"
   ]
  },
  {
   "cell_type": "code",
   "execution_count": 39,
   "id": "6acce776-0f05-4e8f-a5d4-8cff884e62a5",
   "metadata": {},
   "outputs": [
    {
     "data": {
      "text/plain": [
       "[{'tval': 4}, {'tval': 5}]"
      ]
     },
     "execution_count": 39,
     "metadata": {},
     "output_type": "execute_result"
    }
   ],
   "source": [
    "def update_dict(dict):\n",
    "    dict['tval'] += 1\n",
    "    return \n",
    "\n",
    "\n",
    "dlist = [{'tval':3},{'tval':4}]\n",
    "for el in dlist:\n",
    "    update_dict(el)\n",
    "\n",
    "dlist # yay dict updated in place w/o deep copies going around"
   ]
  },
  {
   "cell_type": "code",
   "execution_count": 38,
   "id": "a10d062a-0b84-41ef-b3ec-c1500d9912c3",
   "metadata": {},
   "outputs": [
    {
     "data": {
      "text/plain": [
       "[{'tval': 4}, {'tval': 5}]"
      ]
     },
     "execution_count": 38,
     "metadata": {},
     "output_type": "execute_result"
    }
   ],
   "source": []
  },
  {
   "cell_type": "code",
   "execution_count": null,
   "id": "200b1db4-cf1e-4251-ba84-fbf9b8bc4663",
   "metadata": {},
   "outputs": [],
   "source": []
  }
 ],
 "metadata": {
  "kernelspec": {
   "display_name": "Python 3 (ipykernel)",
   "language": "python",
   "name": "python3"
  },
  "language_info": {
   "codemirror_mode": {
    "name": "ipython",
    "version": 3
   },
   "file_extension": ".py",
   "mimetype": "text/x-python",
   "name": "python",
   "nbconvert_exporter": "python",
   "pygments_lexer": "ipython3",
   "version": "3.9.5"
  }
 },
 "nbformat": 4,
 "nbformat_minor": 5
}
