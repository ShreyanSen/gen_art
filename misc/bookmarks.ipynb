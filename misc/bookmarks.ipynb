{
 "cells": [
  {
   "cell_type": "code",
   "execution_count": 2,
   "id": "0864d161",
   "metadata": {},
   "outputs": [],
   "source": [
    "import numpy as np\n",
    "from processing_py import *"
   ]
  },
  {
   "cell_type": "code",
   "execution_count": 9,
   "id": "394e5397",
   "metadata": {},
   "outputs": [
    {
     "name": "stderr",
     "output_type": "stream",
     "text": [
      "Starting App...\n",
      ">> [Jython] Created!\n",
      "\n"
     ]
    }
   ],
   "source": [
    "app = App(600,400) # create window: width, height\n",
    "app.background(0,0,0) # set background:  red, green, blue\n",
    "app.fill(146,50,34) #set color for objects: red, green, blue\n",
    "app.rect(10,25,20,16) # draw a rectangle: x0, y0, size_x, size_y\n",
    "app.fill(0,30,25) # set color for objects: red, green, blue\n",
    "app.ellipse(300,200,50,50) # draw a circle: center_x, center_y, size_x, size_y\n",
    "app.redraw()"
   ]
  },
  {
   "cell_type": "markdown",
   "id": "a4354ade",
   "metadata": {},
   "source": [
    "# BookStrap\n",
    "\n",
    "The aim of this project is to use fun bootstrapping to create cool patterned bookmarks. \n",
    "Teach people how a block bootstrap works and how a block bootstrap works via color. \n",
    "\n",
    "Try to regenerate a similar thing from a noisy initial sequence.\n",
    "Actually, generate an initial sequence using some simple sine patterns in the input domain. \n",
    "\n",
    "Teach people about sine waves in that step!\n",
    "\n",
    "We'll use processing to associate numbers to drawing. More here:\n",
    "https://processing.org/reference/\n",
    "\n",
    "\n"
   ]
  }
 ],
 "metadata": {
  "kernelspec": {
   "display_name": "Python 3 (ipykernel)",
   "language": "python",
   "name": "python3"
  },
  "language_info": {
   "codemirror_mode": {
    "name": "ipython",
    "version": 3
   },
   "file_extension": ".py",
   "mimetype": "text/x-python",
   "name": "python",
   "nbconvert_exporter": "python",
   "pygments_lexer": "ipython3",
   "version": "3.10.5"
  }
 },
 "nbformat": 4,
 "nbformat_minor": 5
}
